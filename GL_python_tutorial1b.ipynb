{
 "cells": [
  {
   "cell_type": "markdown",
   "metadata": {},
   "source": [
    "# Python Tutorial - How to work with CoastWatch data in Python\n",
    "\n",
    "This tutorial is based on the OceanWatch tutorial meterial edited with Great Lakes data. This tutorial will show the steps to grab data in ERDDAP from Python, how to work with NetCDF files in Python and how to make some maps and time-series water surface temperature (sst) in Lake Erie.\n",
    "\n",
    "## 1. Downlading data from Python\n",
    "\n",
    "Because ERDDAP includes RESTful services, you can download data listed on any ERDDAP platform from Python using the URL structure. For example, the following page allows you to subset daily water surface temperature data from the dataset GLSEA_ACSPO_GCS\n",
    "\n",
    "![](gl_erddap_glsea.png)\n",
    "\n",
    "In this specific example, the URL we generated is :\n",
    "\n",
    "https://apps.glerl.noaa.gov/erddap/griddap/GLSEA_ACSPO_GCS.nc?sst%5B(2023-06-01T12:00:00Z):1:(2023-06-30T12:00:00Z)%5D%5B(41):1:(43)%5D%5B(-83.5):1:(-78.5)%5D\n",
    "\n",
    "\n",
    "In Python, run the following to download the data using the generated URL. **Note:** replace coastwatch.glerl.noaa.gov with apps.glerl.noaa.gov) :\n"
   ]
  },
  {
   "cell_type": "code",
   "execution_count": 1,
   "metadata": {},
   "outputs": [],
   "source": [
    "import xarray as xr\n",
    "import pandas as pd\n",
    "import numpy as np\n"
   ]
  },
  {
   "cell_type": "code",
   "execution_count": 2,
   "metadata": {},
   "outputs": [
    {
     "data": {
      "text/plain": [
       "('e_sst.csv', <http.client.HTTPMessage at 0x20096466a10>)"
      ]
     },
     "execution_count": 2,
     "metadata": {},
     "output_type": "execute_result"
    }
   ],
   "source": [
    "import urllib.request\n",
    "\n",
    "#url=\"https://apps.glerl.noaa.gov/erddap/griddap/GLSEA_ACSPO_GCS.csv?sst%5B(2023-06-01T12:00:00Z):1:(2023-06-30T12:00:00Z)%5D%5B(41):1:(43)%5D%5B(-83.5):1:(-78.5)%5D\"\n",
    "#urllib.request.urlretrieve(url, \"e_sst.csv\")\n",
    "\n",
    "url=\"https://apps.glerl.noaa.gov/erddap/griddap/GLSEA_ACSPO_GCS.csv?sst%5B(2023-06-01T12:00:00Z):1:(2023-06-30T12:00:00Z)%5D%5B(41):1:(43)%5D%5B(-83.5):1:(-78.5)%5D\"\n",
    "urllib.request.urlretrieve(url, \"e_sst.csv\")\n",
    "\n",
    "#url='https://apps.glerl.noaa.gov/erddap/griddap/GLSEA_ACSPO_GCS.asc?sst%5B(2024-03-01T12:00:00Z):1:(2024-05-05T12:00:00Z)%5D%5B(38.8749871947297):1:(50.6059751976539)%5D%5B(-92.4199507342304):1:(-75.8816402880531)%5D'\n",
    "#urllib.request.urlretrieve(url, \"e_sst.asc\")\n",
    "\n",
    "#url='https://apps.glerl.noaa.gov/erddap/griddap/GLSEA_ACSPO_GCS.dods?sst%5B(2024-03-01T12:00:00Z):1:(2024-05-05T12:00:00Z)%5D%5B(38.8749871947297):1:(50.6059751976539)%5D%5B(-92.4199507342304):1:(-75.8816402880531)%5D'\n",
    "#urllib.request.urlretrieve(url, \"e_sst.dods\")\n",
    "\n",
    "#url='https://apps.glerl.noaa.gov/erddap/griddap/GLSEA_ACSPO_GCS.das?sst%5B(2024-03-01T12:00:00Z):1:(2024-05-05T12:00:00Z)%5D%5B(38.8749871947297):1:(50.6059751976539)%5D%5B(-92.4199507342304):1:(-75.8816402880531)%5D'\n",
    "#urllib.request.urlretrieve(url, \"e_sst.das\")\n"
   ]
  },
  {
   "cell_type": "code",
   "execution_count": 3,
   "metadata": {},
   "outputs": [
    {
     "name": "stdout",
     "output_type": "stream",
     "text": [
      "<bound method NDFrame.head of                          time        lat        lon  sst\n",
      "0        2023-06-01T12:00:00Z  41.005346 -83.506082  NaN\n",
      "1        2023-06-01T12:00:00Z  41.005346 -83.492066  NaN\n",
      "2        2023-06-01T12:00:00Z  41.005346 -83.478051  NaN\n",
      "3        2023-06-01T12:00:00Z  41.005346 -83.464035  NaN\n",
      "4        2023-06-01T12:00:00Z  41.005346 -83.450020  NaN\n",
      "...                       ...        ...        ...  ...\n",
      "1535815  2023-06-30T12:00:00Z  42.995549 -78.558604  NaN\n",
      "1535816  2023-06-30T12:00:00Z  42.995549 -78.544589  NaN\n",
      "1535817  2023-06-30T12:00:00Z  42.995549 -78.530573  NaN\n",
      "1535818  2023-06-30T12:00:00Z  42.995549 -78.516558  NaN\n",
      "1535819  2023-06-30T12:00:00Z  42.995549 -78.502542  NaN\n",
      "\n",
      "[1535820 rows x 4 columns]>\n",
      "2023-06-01T12:00:00Z\n",
      "41.0053458284746\n",
      "-83.4920661967601\n",
      "nan\n"
     ]
    }
   ],
   "source": [
    "import pandas as pd\n",
    "\n",
    "#df = pd.read_csv('e_sst.csv', skiprows=9,delimiter=r'\\s+', header=None, names=['YEAR', 'JD', 'S', 'M', 'H', 'E', 'O','St'], dtype=np.float64)\n",
    "df = pd.read_csv('e_sst.csv', skiprows=2,  header=None, names=['time', 'lat', 'lon','sst'])\n",
    "\n",
    "#df = pd.read_csv('e_sst.csv',  skiprows=2,  header=None)\n",
    "#print(df.values)\n",
    "#print(df.info)\n",
    "print(df.head)\n",
    "print(df.values[0][0])\n",
    "print(df.values[0][1])\n",
    "print(df.values[1][2])\n",
    "print(df.values[0][3])"
   ]
  },
  {
   "cell_type": "code",
   "execution_count": 44,
   "metadata": {},
   "outputs": [
    {
     "name": "stdout",
     "output_type": "stream",
     "text": [
      "[[0 1]\n",
      " [2 3]\n",
      " [4 5]]\n",
      "[0 1 2 3 4 5]\n"
     ]
    }
   ],
   "source": [
    "a = np.arange(6).reshape((3, 2))\n",
    "print(a)\n",
    "b = np.arange(6)\n",
    "print(b)\n"
   ]
  },
  {
   "cell_type": "code",
   "execution_count": 52,
   "metadata": {},
   "outputs": [
    {
     "name": "stdout",
     "output_type": "stream",
     "text": [
      "['2023-06-01T12:00:00Z', '2023-06-02T12:00:00Z', '2023-06-03T12:00:00Z', '2023-06-04T12:00:00Z', '2023-06-05T12:00:00Z', '2023-06-06T12:00:00Z', '2023-06-07T12:00:00Z', '2023-06-08T12:00:00Z', '2023-06-09T12:00:00Z', '2023-06-10T12:00:00Z', '2023-06-11T12:00:00Z', '2023-06-12T12:00:00Z', '2023-06-13T12:00:00Z', '2023-06-14T12:00:00Z', '2023-06-15T12:00:00Z', '2023-06-16T12:00:00Z', '2023-06-17T12:00:00Z', '2023-06-18T12:00:00Z', '2023-06-19T12:00:00Z', '2023-06-20T12:00:00Z', '2023-06-21T12:00:00Z', '2023-06-22T12:00:00Z', '2023-06-23T12:00:00Z', '2023-06-24T12:00:00Z', '2023-06-25T12:00:00Z', '2023-06-26T12:00:00Z', '2023-06-27T12:00:00Z', '2023-06-28T12:00:00Z', '2023-06-29T12:00:00Z', '2023-06-30T12:00:00Z']\n",
      "30\n",
      "[41.0053458284746, 41.0193613458019, 41.0333768631292, 41.0473923804564, 41.0614078977837, 41.075423415111, 41.0894389324382, 41.1034544497655, 41.1174699670928, 41.13148548442, 41.1455010017473, 41.1595165190746, 41.1735320364019, 41.1875475537291, 41.2015630710564, 41.2155785883837, 41.2295941057109, 41.2436096230382, 41.2576251403655, 41.2716406576927, 41.28565617502, 41.2996716923473, 41.3136872096745, 41.3277027270018, 41.3417182443291, 41.3557337616563, 41.3697492789836, 41.3837647963109, 41.3977803136382, 41.4117958309654, 41.4258113482927, 41.43982686562, 41.4538423829472, 41.4678579002745, 41.4818734176018, 41.495888934929, 41.5099044522563, 41.5239199695836, 41.5379354869108, 41.5519510042381, 41.5659665215654, 41.5799820388927, 41.5939975562199, 41.6080130735472, 41.6220285908745, 41.6360441082017, 41.650059625529, 41.6640751428563, 41.6780906601835, 41.6921061775108, 41.7061216948381, 41.7201372121653, 41.7341527294926, 41.7481682468199, 41.7621837641471, 41.7761992814744, 41.7902147988017, 41.804230316129, 41.8182458334562, 41.8322613507835, 41.8462768681108, 41.860292385438, 41.8743079027653, 41.8883234200926, 41.9023389374198, 41.9163544547471, 41.9303699720744, 41.9443854894016, 41.9584010067289, 41.9724165240562, 41.9864320413835, 42.0004475587107, 42.014463076038, 42.0284785933653, 42.0424941106925, 42.0565096280198, 42.0705251453471, 42.0845406626743, 42.0985561800016, 42.1125716973289, 42.1265872146561, 42.1406027319834, 42.1546182493107, 42.1686337666379, 42.1826492839652, 42.1966648012925, 42.2106803186198, 42.224695835947, 42.2387113532743, 42.2527268706016, 42.2667423879288, 42.2807579052561, 42.2947734225834, 42.3087889399106, 42.3228044572379, 42.3368199745652, 42.3508354918924, 42.3648510092197, 42.378866526547, 42.3928820438743, 42.4068975612015, 42.4209130785288, 42.4349285958561, 42.4489441131833, 42.4629596305106, 42.4769751478379, 42.4909906651651, 42.5050061824924, 42.5190216998197, 42.5330372171469, 42.5470527344742, 42.5610682518015, 42.5750837691287, 42.589099286456, 42.6031148037833, 42.6171303211106, 42.6311458384378, 42.6451613557651, 42.6591768730924, 42.6731923904196, 42.6872079077469, 42.7012234250742, 42.7152389424014, 42.7292544597287, 42.743269977056, 42.7572854943832, 42.7713010117105, 42.7853165290378, 42.7993320463651, 42.8133475636923, 42.8273630810196, 42.8413785983469, 42.8553941156741, 42.8694096330014, 42.8834251503287, 42.8974406676559, 42.9114561849832, 42.9254717023105, 42.9394872196377, 42.953502736965, 42.9675182542923, 42.9815337716195, 42.9955492889468]\n",
      "143\n",
      "[-83.5060817140874, -83.4920661967601, -83.4780506794328, -83.4640351621056, -83.4500196447783, -83.436004127451, -83.4219886101238, -83.4079730927965, -83.3939575754692, -83.3799420581419, -83.3659265408147, -83.3519110234874, -83.3378955061601, -83.3238799888329, -83.3098644715056, -83.2958489541783, -83.2818334368511, -83.2678179195238, -83.2538024021965, -83.2397868848693, -83.225771367542, -83.2117558502147, -83.1977403328874, -83.1837248155602, -83.1697092982329, -83.1556937809057, -83.1416782635784, -83.1276627462511, -83.1136472289238, -83.0996317115966, -83.0856161942693, -83.071600676942, -83.0575851596148, -83.0435696422875, -83.0295541249602, -83.015538607633, -83.0015230903057, -82.9875075729784, -82.9734920556511, -82.9594765383239, -82.9454610209966, -82.9314455036693, -82.9174299863421, -82.9034144690148, -82.8893989516875, -82.8753834343603, -82.861367917033, -82.8473523997057, -82.8333368823785, -82.8193213650512, -82.8053058477239, -82.7912903303966, -82.7772748130694, -82.7632592957421, -82.7492437784149, -82.7352282610876, -82.7212127437603, -82.707197226433, -82.6931817091058, -82.6791661917785, -82.6651506744512, -82.651135157124, -82.6371196397967, -82.6231041224694, -82.6090886051422, -82.5950730878149, -82.5810575704876, -82.5670420531603, -82.5530265358331, -82.5390110185058, -82.5249955011785, -82.5109799838513, -82.496964466524, -82.4829489491967, -82.4689334318695, -82.4549179145422, -82.4409023972149, -82.4268868798877, -82.4128713625604, -82.3988558452331, -82.3848403279058, -82.3708248105786, -82.3568092932513, -82.3427937759241, -82.3287782585968, -82.3147627412695, -82.3007472239422, -82.286731706615, -82.2727161892877, -82.2587006719604, -82.2446851546332, -82.2306696373059, -82.2166541199786, -82.2026386026514, -82.1886230853241, -82.1746075679968, -82.1605920506695, -82.1465765333423, -82.132561016015, -82.1185454986878, -82.1045299813605, -82.0905144640332, -82.0764989467059, -82.0624834293787, -82.0484679120514, -82.0344523947241, -82.0204368773969, -82.0064213600696, -81.9924058427423, -81.978390325415, -81.9643748080878, -81.9503592907605, -81.9363437734333, -81.922328256106, -81.9083127387787, -81.8942972214514, -81.8802817041242, -81.8662661867969, -81.8522506694696, -81.8382351521424, -81.8242196348151, -81.8102041174878, -81.7961886001606, -81.7821730828333, -81.768157565506, -81.7541420481787, -81.7401265308515, -81.7261110135242, -81.712095496197, -81.6980799788697, -81.6840644615424, -81.6700489442151, -81.6560334268879, -81.6420179095606, -81.6280023922333, -81.6139868749061, -81.5999713575788, -81.5859558402515, -81.5719403229242, -81.557924805597, -81.5439092882697, -81.5298937709425, -81.5158782536152, -81.5018627362879, -81.4878472189606, -81.4738317016334, -81.4598161843061, -81.4458006669788, -81.4317851496516, -81.4177696323243, -81.403754114997, -81.3897385976698, -81.3757230803425, -81.3617075630152, -81.3476920456879, -81.3336765283607, -81.3196610110334, -81.3056454937062, -81.2916299763789, -81.2776144590516, -81.2635989417243, -81.2495834243971, -81.2355679070698, -81.2215523897425, -81.2075368724153, -81.193521355088, -81.1795058377607, -81.1654903204334, -81.1514748031062, -81.1374592857789, -81.1234437684517, -81.1094282511244, -81.0954127337971, -81.0813972164698, -81.0673816991426, -81.0533661818153, -81.039350664488, -81.0253351471608, -81.0113196298335, -80.9973041125062, -80.983288595179, -80.9692730778517, -80.9552575605244, -80.9412420431971, -80.9272265258699, -80.9132110085426, -80.8991954912154, -80.8851799738881, -80.8711644565608, -80.8571489392335, -80.8431334219063, -80.829117904579, -80.8151023872517, -80.8010868699245, -80.7870713525972, -80.7730558352699, -80.7590403179427, -80.7450248006154, -80.7310092832881, -80.7169937659609, -80.7029782486336, -80.6889627313063, -80.674947213979, -80.6609316966518, -80.6469161793245, -80.6329006619972, -80.61888514467, -80.6048696273427, -80.5908541100154, -80.5768385926882, -80.5628230753609, -80.5488075580336, -80.5347920407063, -80.5207765233791, -80.5067610060518, -80.4927454887246, -80.4787299713973, -80.46471445407, -80.4506989367427, -80.4366834194155, -80.4226679020882, -80.4086523847609, -80.3946368674337, -80.3806213501064, -80.3666058327791, -80.3525903154519, -80.3385747981246, -80.3245592807973, -80.3105437634701, -80.2965282461428, -80.2825127288155, -80.2684972114882, -80.254481694161, -80.2404661768337, -80.2264506595064, -80.2124351421792, -80.1984196248519, -80.1844041075246, -80.1703885901974, -80.1563730728701, -80.1423575555428, -80.1283420382155, -80.1143265208883, -80.100311003561, -80.0862954862338, -80.0722799689065, -80.0582644515792, -80.0442489342519, -80.0302334169247, -80.0162178995974, -80.0022023822701, -79.9881868649429, -79.9741713476156, -79.9601558302883, -79.9461403129611, -79.9321247956338, -79.9181092783065, -79.9040937609793, -79.890078243652, -79.8760627263247, -79.8620472089974, -79.8480316916702, -79.8340161743429, -79.8200006570156, -79.8059851396884, -79.7919696223611, -79.7779541050338, -79.7639385877066, -79.7499230703793, -79.735907553052, -79.7218920357247, -79.7078765183975, -79.6938610010702, -79.679845483743, -79.6658299664157, -79.6518144490884, -79.6377989317611, -79.6237834144339, -79.6097678971066, -79.5957523797793, -79.5817368624521, -79.5677213451248, -79.5537058277975, -79.5396903104703, -79.525674793143, -79.5116592758157, -79.4976437584885, -79.4836282411612, -79.4696127238339, -79.4555972065066, -79.4415816891794, -79.4275661718521, -79.4135506545248, -79.3995351371976, -79.3855196198703, -79.371504102543, -79.3574885852158, -79.3434730678885, -79.3294575505612, -79.3154420332339, -79.3014265159067, -79.2874109985794, -79.2733954812522, -79.2593799639249, -79.2453644465976, -79.2313489292703, -79.2173334119431, -79.2033178946158, -79.1893023772885, -79.1752868599613, -79.161271342634, -79.1472558253067, -79.1332403079795, -79.1192247906522, -79.1052092733249, -79.0911937559977, -79.0771782386704, -79.0631627213431, -79.0491472040158, -79.0351316866886, -79.0211161693613, -79.007100652034, -78.9930851347068, -78.9790696173795, -78.9650541000522, -78.951038582725, -78.9370230653977, -78.9230075480704, -78.9089920307431, -78.8949765134159, -78.8809609960886, -78.8669454787614, -78.8529299614341, -78.8389144441068, -78.8248989267795, -78.8108834094523, -78.796867892125, -78.7828523747977, -78.7688368574705, -78.7548213401432, -78.7408058228159, -78.7267903054887, -78.7127747881614, -78.6987592708341, -78.6847437535069, -78.6707282361796, -78.6567127188523, -78.642697201525, -78.6286816841978, -78.6146661668705, -78.6006506495432, -78.586635132216, -78.5726196148887, -78.5586040975614, -78.5445885802342, -78.5305730629069, -78.5165575455796, -78.5025420282523]\n",
      "358\n",
      "[[[nan nan nan ... nan nan nan]\n",
      "  [nan nan nan ... nan nan nan]\n",
      "  [nan nan nan ... nan nan nan]\n",
      "  ...\n",
      "  [nan nan nan ... nan nan nan]\n",
      "  [nan nan nan ... nan nan nan]\n",
      "  [nan nan nan ... nan nan nan]]\n",
      "\n",
      " [[nan nan nan ... nan nan nan]\n",
      "  [nan nan nan ... nan nan nan]\n",
      "  [nan nan nan ... nan nan nan]\n",
      "  ...\n",
      "  [nan nan nan ... nan nan nan]\n",
      "  [nan nan nan ... nan nan nan]\n",
      "  [nan nan nan ... nan nan nan]]\n",
      "\n",
      " [[nan nan nan ... nan nan nan]\n",
      "  [nan nan nan ... nan nan nan]\n",
      "  [nan nan nan ... nan nan nan]\n",
      "  ...\n",
      "  [nan nan nan ... nan nan nan]\n",
      "  [nan nan nan ... nan nan nan]\n",
      "  [nan nan nan ... nan nan nan]]\n",
      "\n",
      " ...\n",
      "\n",
      " [[nan nan nan ... nan nan nan]\n",
      "  [nan nan nan ... nan nan nan]\n",
      "  [nan nan nan ... nan nan nan]\n",
      "  ...\n",
      "  [nan nan nan ... nan nan nan]\n",
      "  [nan nan nan ... nan nan nan]\n",
      "  [nan nan nan ... nan nan nan]]\n",
      "\n",
      " [[nan nan nan ... nan nan nan]\n",
      "  [nan nan nan ... nan nan nan]\n",
      "  [nan nan nan ... nan nan nan]\n",
      "  ...\n",
      "  [nan nan nan ... nan nan nan]\n",
      "  [nan nan nan ... nan nan nan]\n",
      "  [nan nan nan ... nan nan nan]]\n",
      "\n",
      " [[nan nan nan ... nan nan nan]\n",
      "  [nan nan nan ... nan nan nan]\n",
      "  [nan nan nan ... nan nan nan]\n",
      "  ...\n",
      "  [nan nan nan ... nan nan nan]\n",
      "  [nan nan nan ... nan nan nan]\n",
      "  [nan nan nan ... nan nan nan]]]\n"
     ]
    }
   ],
   "source": [
    "time_set = set()\n",
    "lat_set = set()\n",
    "lon_set = set()\n",
    "sst_list = list()\n",
    "\n",
    "for d in df.values:\n",
    "    time_set.add(d[0])\n",
    "    lat_set.add(d[1])\n",
    "    lon_set.add(d[2])\n",
    "    sst_list.append(d[3])\n",
    "\n",
    "time_list = list(sorted(time_set))\n",
    "print(time_list)\n",
    "print(len(time_list))\n",
    "lat_list = list(sorted(lat_set))\n",
    "lon_list = list(sorted(lon_set))\n",
    "print(lat_list)\n",
    "print(len(lat_list))\n",
    "print(lon_list)\n",
    "print(len(lon_list))\n",
    "#sst = np.reshape()\n",
    "#a = np.arange(6).reshape((3, 2))\n",
    "sst = np.array(sst_list).reshape(len(time_list), len(lat_list), len(lon_list))\n",
    "print(sst)"
   ]
  },
  {
   "cell_type": "code",
   "execution_count": 53,
   "metadata": {},
   "outputs": [
    {
     "name": "stdout",
     "output_type": "stream",
     "text": [
      "<xarray.Dataset>\n",
      "Dimensions:    (time: 30, latitude: 143, longitude: 358)\n",
      "Coordinates:\n",
      "  * time       (time) <U20 '2023-06-01T12:00:00Z' ... '2023-06-30T12:00:00Z'\n",
      "  * latitude   (latitude) float64 41.01 41.02 41.03 41.05 ... 42.97 42.98 43.0\n",
      "  * longitude  (longitude) float64 -83.51 -83.49 -83.48 ... -78.53 -78.52 -78.5\n",
      "Data variables:\n",
      "    sst        (time, latitude, longitude) float64 nan nan nan ... nan nan nan\n",
      "Attributes:\n",
      "    description:  Weather surface temperature\n"
     ]
    }
   ],
   "source": [
    "  \n",
    "#time = pd.date_range(\"2014-09-06\", periods=3)\n",
    "#print(time)\n",
    "\n",
    "ds = xr.Dataset(\n",
    "    data_vars=dict(\n",
    "        sst=([\"time\", \"latitude\", \"longitude\"], sst),\n",
    "         \n",
    "    ),\n",
    "    coords=dict(\n",
    "         time=time_list,        \n",
    "         latitude=([\"latitude\"], lat_list),\n",
    "         longitude=([\"longitude\"], lon_list),    \n",
    "    ),\n",
    "    attrs=dict(description=\"Weather surface temperature\"),\n",
    ")\n",
    "\n",
    "print(ds)"
   ]
  },
  {
   "cell_type": "markdown",
   "metadata": {},
   "source": [
    "# 2. Importing NetCDF4 data in Python\n",
    "\n",
    "Now that we've downloaded the data locally, we can import it and extract our variables of interest.\n",
    "\n",
    "The xarray package makes it very convenient to work with NetCDF files. Documentation is available here:\n",
    "http://xarray.pydata.org/en/stable/why-xarray.html"
   ]
  },
  {
   "cell_type": "code",
   "execution_count": 94,
   "metadata": {},
   "outputs": [],
   "source": [
    "import xarray as xr\n",
    "#import netCDF4 as nc"
   ]
  },
  {
   "cell_type": "markdown",
   "metadata": {},
   "source": [
    "#### - Open the file and load it as an xarray dataset:"
   ]
  },
  {
   "cell_type": "code",
   "execution_count": 95,
   "metadata": {
    "scrolled": true
   },
   "outputs": [
    {
     "ename": "ValueError",
     "evalue": "did not find a match in any of xarray's currently installed IO backends ['netcdf4', 'h5netcdf']. Consider explicitly selecting one of the installed engines via the ``engine`` parameter, or installing additional IO dependencies, see:\nhttps://docs.xarray.dev/en/stable/getting-started-guide/installing.html\nhttps://docs.xarray.dev/en/stable/user-guide/io.html",
     "output_type": "error",
     "traceback": [
      "\u001b[1;31m---------------------------------------------------------------------------\u001b[0m",
      "\u001b[1;31mValueError\u001b[0m                                Traceback (most recent call last)",
      "Cell \u001b[1;32mIn[95], line 1\u001b[0m\n\u001b[1;32m----> 1\u001b[0m ds \u001b[38;5;241m=\u001b[39m xr\u001b[38;5;241m.\u001b[39mopen_dataset(\u001b[38;5;124m'\u001b[39m\u001b[38;5;124me_sst.csv\u001b[39m\u001b[38;5;124m'\u001b[39m,decode_cf\u001b[38;5;241m=\u001b[39m\u001b[38;5;28;01mFalse\u001b[39;00m)\n",
      "File \u001b[1;32m~\\.conda\\envs\\cw_training\\Lib\\site-packages\\xarray\\backends\\api.py:547\u001b[0m, in \u001b[0;36mopen_dataset\u001b[1;34m(filename_or_obj, engine, chunks, cache, decode_cf, mask_and_scale, decode_times, decode_timedelta, use_cftime, concat_characters, decode_coords, drop_variables, inline_array, chunked_array_type, from_array_kwargs, backend_kwargs, **kwargs)\u001b[0m\n\u001b[0;32m    544\u001b[0m     kwargs\u001b[38;5;241m.\u001b[39mupdate(backend_kwargs)\n\u001b[0;32m    546\u001b[0m \u001b[38;5;28;01mif\u001b[39;00m engine \u001b[38;5;129;01mis\u001b[39;00m \u001b[38;5;28;01mNone\u001b[39;00m:\n\u001b[1;32m--> 547\u001b[0m     engine \u001b[38;5;241m=\u001b[39m plugins\u001b[38;5;241m.\u001b[39mguess_engine(filename_or_obj)\n\u001b[0;32m    549\u001b[0m \u001b[38;5;28;01mif\u001b[39;00m from_array_kwargs \u001b[38;5;129;01mis\u001b[39;00m \u001b[38;5;28;01mNone\u001b[39;00m:\n\u001b[0;32m    550\u001b[0m     from_array_kwargs \u001b[38;5;241m=\u001b[39m {}\n",
      "File \u001b[1;32m~\\.conda\\envs\\cw_training\\Lib\\site-packages\\xarray\\backends\\plugins.py:197\u001b[0m, in \u001b[0;36mguess_engine\u001b[1;34m(store_spec)\u001b[0m\n\u001b[0;32m    189\u001b[0m \u001b[38;5;28;01melse\u001b[39;00m:\n\u001b[0;32m    190\u001b[0m     error_msg \u001b[38;5;241m=\u001b[39m (\n\u001b[0;32m    191\u001b[0m         \u001b[38;5;124m\"\u001b[39m\u001b[38;5;124mfound the following matches with the input file in xarray\u001b[39m\u001b[38;5;124m'\u001b[39m\u001b[38;5;124ms IO \u001b[39m\u001b[38;5;124m\"\u001b[39m\n\u001b[0;32m    192\u001b[0m         \u001b[38;5;124mf\u001b[39m\u001b[38;5;124m\"\u001b[39m\u001b[38;5;124mbackends: \u001b[39m\u001b[38;5;132;01m{\u001b[39;00mcompatible_engines\u001b[38;5;132;01m}\u001b[39;00m\u001b[38;5;124m. But their dependencies may not be installed, see:\u001b[39m\u001b[38;5;130;01m\\n\u001b[39;00m\u001b[38;5;124m\"\u001b[39m\n\u001b[0;32m    193\u001b[0m         \u001b[38;5;124m\"\u001b[39m\u001b[38;5;124mhttps://docs.xarray.dev/en/stable/user-guide/io.html \u001b[39m\u001b[38;5;130;01m\\n\u001b[39;00m\u001b[38;5;124m\"\u001b[39m\n\u001b[0;32m    194\u001b[0m         \u001b[38;5;124m\"\u001b[39m\u001b[38;5;124mhttps://docs.xarray.dev/en/stable/getting-started-guide/installing.html\u001b[39m\u001b[38;5;124m\"\u001b[39m\n\u001b[0;32m    195\u001b[0m     )\n\u001b[1;32m--> 197\u001b[0m \u001b[38;5;28;01mraise\u001b[39;00m \u001b[38;5;167;01mValueError\u001b[39;00m(error_msg)\n",
      "\u001b[1;31mValueError\u001b[0m: did not find a match in any of xarray's currently installed IO backends ['netcdf4', 'h5netcdf']. Consider explicitly selecting one of the installed engines via the ``engine`` parameter, or installing additional IO dependencies, see:\nhttps://docs.xarray.dev/en/stable/getting-started-guide/installing.html\nhttps://docs.xarray.dev/en/stable/user-guide/io.html"
     ]
    }
   ],
   "source": [
    "ds = xr.open_dataset('e_sst.csv',decode_cf=False)\n",
    "#ds = xr.open_dataset('e_sst.nc')"
   ]
  },
  {
   "cell_type": "markdown",
   "metadata": {},
   "source": [
    "#### - Examine the data structure:"
   ]
  },
  {
   "cell_type": "code",
   "execution_count": 54,
   "metadata": {},
   "outputs": [
    {
     "data": {
      "text/html": [
       "<div><svg style=\"position: absolute; width: 0; height: 0; overflow: hidden\">\n",
       "<defs>\n",
       "<symbol id=\"icon-database\" viewBox=\"0 0 32 32\">\n",
       "<path d=\"M16 0c-8.837 0-16 2.239-16 5v4c0 2.761 7.163 5 16 5s16-2.239 16-5v-4c0-2.761-7.163-5-16-5z\"></path>\n",
       "<path d=\"M16 17c-8.837 0-16-2.239-16-5v6c0 2.761 7.163 5 16 5s16-2.239 16-5v-6c0 2.761-7.163 5-16 5z\"></path>\n",
       "<path d=\"M16 26c-8.837 0-16-2.239-16-5v6c0 2.761 7.163 5 16 5s16-2.239 16-5v-6c0 2.761-7.163 5-16 5z\"></path>\n",
       "</symbol>\n",
       "<symbol id=\"icon-file-text2\" viewBox=\"0 0 32 32\">\n",
       "<path d=\"M28.681 7.159c-0.694-0.947-1.662-2.053-2.724-3.116s-2.169-2.030-3.116-2.724c-1.612-1.182-2.393-1.319-2.841-1.319h-15.5c-1.378 0-2.5 1.121-2.5 2.5v27c0 1.378 1.122 2.5 2.5 2.5h23c1.378 0 2.5-1.122 2.5-2.5v-19.5c0-0.448-0.137-1.23-1.319-2.841zM24.543 5.457c0.959 0.959 1.712 1.825 2.268 2.543h-4.811v-4.811c0.718 0.556 1.584 1.309 2.543 2.268zM28 29.5c0 0.271-0.229 0.5-0.5 0.5h-23c-0.271 0-0.5-0.229-0.5-0.5v-27c0-0.271 0.229-0.5 0.5-0.5 0 0 15.499-0 15.5 0v7c0 0.552 0.448 1 1 1h7v19.5z\"></path>\n",
       "<path d=\"M23 26h-14c-0.552 0-1-0.448-1-1s0.448-1 1-1h14c0.552 0 1 0.448 1 1s-0.448 1-1 1z\"></path>\n",
       "<path d=\"M23 22h-14c-0.552 0-1-0.448-1-1s0.448-1 1-1h14c0.552 0 1 0.448 1 1s-0.448 1-1 1z\"></path>\n",
       "<path d=\"M23 18h-14c-0.552 0-1-0.448-1-1s0.448-1 1-1h14c0.552 0 1 0.448 1 1s-0.448 1-1 1z\"></path>\n",
       "</symbol>\n",
       "</defs>\n",
       "</svg>\n",
       "<style>/* CSS stylesheet for displaying xarray objects in jupyterlab.\n",
       " *\n",
       " */\n",
       "\n",
       ":root {\n",
       "  --xr-font-color0: var(--jp-content-font-color0, rgba(0, 0, 0, 1));\n",
       "  --xr-font-color2: var(--jp-content-font-color2, rgba(0, 0, 0, 0.54));\n",
       "  --xr-font-color3: var(--jp-content-font-color3, rgba(0, 0, 0, 0.38));\n",
       "  --xr-border-color: var(--jp-border-color2, #e0e0e0);\n",
       "  --xr-disabled-color: var(--jp-layout-color3, #bdbdbd);\n",
       "  --xr-background-color: var(--jp-layout-color0, white);\n",
       "  --xr-background-color-row-even: var(--jp-layout-color1, white);\n",
       "  --xr-background-color-row-odd: var(--jp-layout-color2, #eeeeee);\n",
       "}\n",
       "\n",
       "html[theme=dark],\n",
       "body[data-theme=dark],\n",
       "body.vscode-dark {\n",
       "  --xr-font-color0: rgba(255, 255, 255, 1);\n",
       "  --xr-font-color2: rgba(255, 255, 255, 0.54);\n",
       "  --xr-font-color3: rgba(255, 255, 255, 0.38);\n",
       "  --xr-border-color: #1F1F1F;\n",
       "  --xr-disabled-color: #515151;\n",
       "  --xr-background-color: #111111;\n",
       "  --xr-background-color-row-even: #111111;\n",
       "  --xr-background-color-row-odd: #313131;\n",
       "}\n",
       "\n",
       ".xr-wrap {\n",
       "  display: block !important;\n",
       "  min-width: 300px;\n",
       "  max-width: 700px;\n",
       "}\n",
       "\n",
       ".xr-text-repr-fallback {\n",
       "  /* fallback to plain text repr when CSS is not injected (untrusted notebook) */\n",
       "  display: none;\n",
       "}\n",
       "\n",
       ".xr-header {\n",
       "  padding-top: 6px;\n",
       "  padding-bottom: 6px;\n",
       "  margin-bottom: 4px;\n",
       "  border-bottom: solid 1px var(--xr-border-color);\n",
       "}\n",
       "\n",
       ".xr-header > div,\n",
       ".xr-header > ul {\n",
       "  display: inline;\n",
       "  margin-top: 0;\n",
       "  margin-bottom: 0;\n",
       "}\n",
       "\n",
       ".xr-obj-type,\n",
       ".xr-array-name {\n",
       "  margin-left: 2px;\n",
       "  margin-right: 10px;\n",
       "}\n",
       "\n",
       ".xr-obj-type {\n",
       "  color: var(--xr-font-color2);\n",
       "}\n",
       "\n",
       ".xr-sections {\n",
       "  padding-left: 0 !important;\n",
       "  display: grid;\n",
       "  grid-template-columns: 150px auto auto 1fr 20px 20px;\n",
       "}\n",
       "\n",
       ".xr-section-item {\n",
       "  display: contents;\n",
       "}\n",
       "\n",
       ".xr-section-item input {\n",
       "  display: none;\n",
       "}\n",
       "\n",
       ".xr-section-item input + label {\n",
       "  color: var(--xr-disabled-color);\n",
       "}\n",
       "\n",
       ".xr-section-item input:enabled + label {\n",
       "  cursor: pointer;\n",
       "  color: var(--xr-font-color2);\n",
       "}\n",
       "\n",
       ".xr-section-item input:enabled + label:hover {\n",
       "  color: var(--xr-font-color0);\n",
       "}\n",
       "\n",
       ".xr-section-summary {\n",
       "  grid-column: 1;\n",
       "  color: var(--xr-font-color2);\n",
       "  font-weight: 500;\n",
       "}\n",
       "\n",
       ".xr-section-summary > span {\n",
       "  display: inline-block;\n",
       "  padding-left: 0.5em;\n",
       "}\n",
       "\n",
       ".xr-section-summary-in:disabled + label {\n",
       "  color: var(--xr-font-color2);\n",
       "}\n",
       "\n",
       ".xr-section-summary-in + label:before {\n",
       "  display: inline-block;\n",
       "  content: '►';\n",
       "  font-size: 11px;\n",
       "  width: 15px;\n",
       "  text-align: center;\n",
       "}\n",
       "\n",
       ".xr-section-summary-in:disabled + label:before {\n",
       "  color: var(--xr-disabled-color);\n",
       "}\n",
       "\n",
       ".xr-section-summary-in:checked + label:before {\n",
       "  content: '▼';\n",
       "}\n",
       "\n",
       ".xr-section-summary-in:checked + label > span {\n",
       "  display: none;\n",
       "}\n",
       "\n",
       ".xr-section-summary,\n",
       ".xr-section-inline-details {\n",
       "  padding-top: 4px;\n",
       "  padding-bottom: 4px;\n",
       "}\n",
       "\n",
       ".xr-section-inline-details {\n",
       "  grid-column: 2 / -1;\n",
       "}\n",
       "\n",
       ".xr-section-details {\n",
       "  display: none;\n",
       "  grid-column: 1 / -1;\n",
       "  margin-bottom: 5px;\n",
       "}\n",
       "\n",
       ".xr-section-summary-in:checked ~ .xr-section-details {\n",
       "  display: contents;\n",
       "}\n",
       "\n",
       ".xr-array-wrap {\n",
       "  grid-column: 1 / -1;\n",
       "  display: grid;\n",
       "  grid-template-columns: 20px auto;\n",
       "}\n",
       "\n",
       ".xr-array-wrap > label {\n",
       "  grid-column: 1;\n",
       "  vertical-align: top;\n",
       "}\n",
       "\n",
       ".xr-preview {\n",
       "  color: var(--xr-font-color3);\n",
       "}\n",
       "\n",
       ".xr-array-preview,\n",
       ".xr-array-data {\n",
       "  padding: 0 5px !important;\n",
       "  grid-column: 2;\n",
       "}\n",
       "\n",
       ".xr-array-data,\n",
       ".xr-array-in:checked ~ .xr-array-preview {\n",
       "  display: none;\n",
       "}\n",
       "\n",
       ".xr-array-in:checked ~ .xr-array-data,\n",
       ".xr-array-preview {\n",
       "  display: inline-block;\n",
       "}\n",
       "\n",
       ".xr-dim-list {\n",
       "  display: inline-block !important;\n",
       "  list-style: none;\n",
       "  padding: 0 !important;\n",
       "  margin: 0;\n",
       "}\n",
       "\n",
       ".xr-dim-list li {\n",
       "  display: inline-block;\n",
       "  padding: 0;\n",
       "  margin: 0;\n",
       "}\n",
       "\n",
       ".xr-dim-list:before {\n",
       "  content: '(';\n",
       "}\n",
       "\n",
       ".xr-dim-list:after {\n",
       "  content: ')';\n",
       "}\n",
       "\n",
       ".xr-dim-list li:not(:last-child):after {\n",
       "  content: ',';\n",
       "  padding-right: 5px;\n",
       "}\n",
       "\n",
       ".xr-has-index {\n",
       "  font-weight: bold;\n",
       "}\n",
       "\n",
       ".xr-var-list,\n",
       ".xr-var-item {\n",
       "  display: contents;\n",
       "}\n",
       "\n",
       ".xr-var-item > div,\n",
       ".xr-var-item label,\n",
       ".xr-var-item > .xr-var-name span {\n",
       "  background-color: var(--xr-background-color-row-even);\n",
       "  margin-bottom: 0;\n",
       "}\n",
       "\n",
       ".xr-var-item > .xr-var-name:hover span {\n",
       "  padding-right: 5px;\n",
       "}\n",
       "\n",
       ".xr-var-list > li:nth-child(odd) > div,\n",
       ".xr-var-list > li:nth-child(odd) > label,\n",
       ".xr-var-list > li:nth-child(odd) > .xr-var-name span {\n",
       "  background-color: var(--xr-background-color-row-odd);\n",
       "}\n",
       "\n",
       ".xr-var-name {\n",
       "  grid-column: 1;\n",
       "}\n",
       "\n",
       ".xr-var-dims {\n",
       "  grid-column: 2;\n",
       "}\n",
       "\n",
       ".xr-var-dtype {\n",
       "  grid-column: 3;\n",
       "  text-align: right;\n",
       "  color: var(--xr-font-color2);\n",
       "}\n",
       "\n",
       ".xr-var-preview {\n",
       "  grid-column: 4;\n",
       "}\n",
       "\n",
       ".xr-index-preview {\n",
       "  grid-column: 2 / 5;\n",
       "  color: var(--xr-font-color2);\n",
       "}\n",
       "\n",
       ".xr-var-name,\n",
       ".xr-var-dims,\n",
       ".xr-var-dtype,\n",
       ".xr-preview,\n",
       ".xr-attrs dt {\n",
       "  white-space: nowrap;\n",
       "  overflow: hidden;\n",
       "  text-overflow: ellipsis;\n",
       "  padding-right: 10px;\n",
       "}\n",
       "\n",
       ".xr-var-name:hover,\n",
       ".xr-var-dims:hover,\n",
       ".xr-var-dtype:hover,\n",
       ".xr-attrs dt:hover {\n",
       "  overflow: visible;\n",
       "  width: auto;\n",
       "  z-index: 1;\n",
       "}\n",
       "\n",
       ".xr-var-attrs,\n",
       ".xr-var-data,\n",
       ".xr-index-data {\n",
       "  display: none;\n",
       "  background-color: var(--xr-background-color) !important;\n",
       "  padding-bottom: 5px !important;\n",
       "}\n",
       "\n",
       ".xr-var-attrs-in:checked ~ .xr-var-attrs,\n",
       ".xr-var-data-in:checked ~ .xr-var-data,\n",
       ".xr-index-data-in:checked ~ .xr-index-data {\n",
       "  display: block;\n",
       "}\n",
       "\n",
       ".xr-var-data > table {\n",
       "  float: right;\n",
       "}\n",
       "\n",
       ".xr-var-name span,\n",
       ".xr-var-data,\n",
       ".xr-index-name div,\n",
       ".xr-index-data,\n",
       ".xr-attrs {\n",
       "  padding-left: 25px !important;\n",
       "}\n",
       "\n",
       ".xr-attrs,\n",
       ".xr-var-attrs,\n",
       ".xr-var-data,\n",
       ".xr-index-data {\n",
       "  grid-column: 1 / -1;\n",
       "}\n",
       "\n",
       "dl.xr-attrs {\n",
       "  padding: 0;\n",
       "  margin: 0;\n",
       "  display: grid;\n",
       "  grid-template-columns: 125px auto;\n",
       "}\n",
       "\n",
       ".xr-attrs dt,\n",
       ".xr-attrs dd {\n",
       "  padding: 0;\n",
       "  margin: 0;\n",
       "  float: left;\n",
       "  padding-right: 10px;\n",
       "  width: auto;\n",
       "}\n",
       "\n",
       ".xr-attrs dt {\n",
       "  font-weight: normal;\n",
       "  grid-column: 1;\n",
       "}\n",
       "\n",
       ".xr-attrs dt:hover span {\n",
       "  display: inline-block;\n",
       "  background: var(--xr-background-color);\n",
       "  padding-right: 10px;\n",
       "}\n",
       "\n",
       ".xr-attrs dd {\n",
       "  grid-column: 2;\n",
       "  white-space: pre-wrap;\n",
       "  word-break: break-all;\n",
       "}\n",
       "\n",
       ".xr-icon-database,\n",
       ".xr-icon-file-text2,\n",
       ".xr-no-icon {\n",
       "  display: inline-block;\n",
       "  vertical-align: middle;\n",
       "  width: 1em;\n",
       "  height: 1.5em !important;\n",
       "  stroke-width: 0;\n",
       "  stroke: currentColor;\n",
       "  fill: currentColor;\n",
       "}\n",
       "</style><pre class='xr-text-repr-fallback'>&lt;xarray.Dataset&gt;\n",
       "Dimensions:    (time: 30, latitude: 143, longitude: 358)\n",
       "Coordinates:\n",
       "  * time       (time) &lt;U20 &#x27;2023-06-01T12:00:00Z&#x27; ... &#x27;2023-06-30T12:00:00Z&#x27;\n",
       "  * latitude   (latitude) float64 41.01 41.02 41.03 41.05 ... 42.97 42.98 43.0\n",
       "  * longitude  (longitude) float64 -83.51 -83.49 -83.48 ... -78.53 -78.52 -78.5\n",
       "Data variables:\n",
       "    sst        (time, latitude, longitude) float64 nan nan nan ... nan nan nan\n",
       "Attributes:\n",
       "    description:  Weather surface temperature</pre><div class='xr-wrap' style='display:none'><div class='xr-header'><div class='xr-obj-type'>xarray.Dataset</div></div><ul class='xr-sections'><li class='xr-section-item'><input id='section-310ae090-7b75-4301-b79d-fc059ebd7a36' class='xr-section-summary-in' type='checkbox' disabled ><label for='section-310ae090-7b75-4301-b79d-fc059ebd7a36' class='xr-section-summary'  title='Expand/collapse section'>Dimensions:</label><div class='xr-section-inline-details'><ul class='xr-dim-list'><li><span class='xr-has-index'>time</span>: 30</li><li><span class='xr-has-index'>latitude</span>: 143</li><li><span class='xr-has-index'>longitude</span>: 358</li></ul></div><div class='xr-section-details'></div></li><li class='xr-section-item'><input id='section-11ed318d-aabd-4403-8215-b9f84e9b6ffd' class='xr-section-summary-in' type='checkbox'  checked><label for='section-11ed318d-aabd-4403-8215-b9f84e9b6ffd' class='xr-section-summary' >Coordinates: <span>(3)</span></label><div class='xr-section-inline-details'></div><div class='xr-section-details'><ul class='xr-var-list'><li class='xr-var-item'><div class='xr-var-name'><span class='xr-has-index'>time</span></div><div class='xr-var-dims'>(time)</div><div class='xr-var-dtype'>&lt;U20</div><div class='xr-var-preview xr-preview'>&#x27;2023-06-01T12:00:00Z&#x27; ... &#x27;2023...</div><input id='attrs-e892fd22-ff60-4eee-a3ce-3c251c9b0d4e' class='xr-var-attrs-in' type='checkbox' disabled><label for='attrs-e892fd22-ff60-4eee-a3ce-3c251c9b0d4e' title='Show/Hide attributes'><svg class='icon xr-icon-file-text2'><use xlink:href='#icon-file-text2'></use></svg></label><input id='data-3d05f740-5793-45b8-bfdb-b5bcce617112' class='xr-var-data-in' type='checkbox'><label for='data-3d05f740-5793-45b8-bfdb-b5bcce617112' title='Show/Hide data repr'><svg class='icon xr-icon-database'><use xlink:href='#icon-database'></use></svg></label><div class='xr-var-attrs'><dl class='xr-attrs'></dl></div><div class='xr-var-data'><pre>array([&#x27;2023-06-01T12:00:00Z&#x27;, &#x27;2023-06-02T12:00:00Z&#x27;, &#x27;2023-06-03T12:00:00Z&#x27;,\n",
       "       &#x27;2023-06-04T12:00:00Z&#x27;, &#x27;2023-06-05T12:00:00Z&#x27;, &#x27;2023-06-06T12:00:00Z&#x27;,\n",
       "       &#x27;2023-06-07T12:00:00Z&#x27;, &#x27;2023-06-08T12:00:00Z&#x27;, &#x27;2023-06-09T12:00:00Z&#x27;,\n",
       "       &#x27;2023-06-10T12:00:00Z&#x27;, &#x27;2023-06-11T12:00:00Z&#x27;, &#x27;2023-06-12T12:00:00Z&#x27;,\n",
       "       &#x27;2023-06-13T12:00:00Z&#x27;, &#x27;2023-06-14T12:00:00Z&#x27;, &#x27;2023-06-15T12:00:00Z&#x27;,\n",
       "       &#x27;2023-06-16T12:00:00Z&#x27;, &#x27;2023-06-17T12:00:00Z&#x27;, &#x27;2023-06-18T12:00:00Z&#x27;,\n",
       "       &#x27;2023-06-19T12:00:00Z&#x27;, &#x27;2023-06-20T12:00:00Z&#x27;, &#x27;2023-06-21T12:00:00Z&#x27;,\n",
       "       &#x27;2023-06-22T12:00:00Z&#x27;, &#x27;2023-06-23T12:00:00Z&#x27;, &#x27;2023-06-24T12:00:00Z&#x27;,\n",
       "       &#x27;2023-06-25T12:00:00Z&#x27;, &#x27;2023-06-26T12:00:00Z&#x27;, &#x27;2023-06-27T12:00:00Z&#x27;,\n",
       "       &#x27;2023-06-28T12:00:00Z&#x27;, &#x27;2023-06-29T12:00:00Z&#x27;, &#x27;2023-06-30T12:00:00Z&#x27;],\n",
       "      dtype=&#x27;&lt;U20&#x27;)</pre></div></li><li class='xr-var-item'><div class='xr-var-name'><span class='xr-has-index'>latitude</span></div><div class='xr-var-dims'>(latitude)</div><div class='xr-var-dtype'>float64</div><div class='xr-var-preview xr-preview'>41.01 41.02 41.03 ... 42.98 43.0</div><input id='attrs-bceb6f4f-125a-4d2c-83c6-d9b433c2eb54' class='xr-var-attrs-in' type='checkbox' disabled><label for='attrs-bceb6f4f-125a-4d2c-83c6-d9b433c2eb54' title='Show/Hide attributes'><svg class='icon xr-icon-file-text2'><use xlink:href='#icon-file-text2'></use></svg></label><input id='data-5eff5e89-d2d0-4491-9746-f3958840c07c' class='xr-var-data-in' type='checkbox'><label for='data-5eff5e89-d2d0-4491-9746-f3958840c07c' title='Show/Hide data repr'><svg class='icon xr-icon-database'><use xlink:href='#icon-database'></use></svg></label><div class='xr-var-attrs'><dl class='xr-attrs'></dl></div><div class='xr-var-data'><pre>array([41.005346, 41.019361, 41.033377, 41.047392, 41.061408, 41.075423,\n",
       "       41.089439, 41.103454, 41.11747 , 41.131485, 41.145501, 41.159517,\n",
       "       41.173532, 41.187548, 41.201563, 41.215579, 41.229594, 41.24361 ,\n",
       "       41.257625, 41.271641, 41.285656, 41.299672, 41.313687, 41.327703,\n",
       "       41.341718, 41.355734, 41.369749, 41.383765, 41.39778 , 41.411796,\n",
       "       41.425811, 41.439827, 41.453842, 41.467858, 41.481873, 41.495889,\n",
       "       41.509904, 41.52392 , 41.537935, 41.551951, 41.565967, 41.579982,\n",
       "       41.593998, 41.608013, 41.622029, 41.636044, 41.65006 , 41.664075,\n",
       "       41.678091, 41.692106, 41.706122, 41.720137, 41.734153, 41.748168,\n",
       "       41.762184, 41.776199, 41.790215, 41.80423 , 41.818246, 41.832261,\n",
       "       41.846277, 41.860292, 41.874308, 41.888323, 41.902339, 41.916354,\n",
       "       41.93037 , 41.944385, 41.958401, 41.972417, 41.986432, 42.000448,\n",
       "       42.014463, 42.028479, 42.042494, 42.05651 , 42.070525, 42.084541,\n",
       "       42.098556, 42.112572, 42.126587, 42.140603, 42.154618, 42.168634,\n",
       "       42.182649, 42.196665, 42.21068 , 42.224696, 42.238711, 42.252727,\n",
       "       42.266742, 42.280758, 42.294773, 42.308789, 42.322804, 42.33682 ,\n",
       "       42.350835, 42.364851, 42.378867, 42.392882, 42.406898, 42.420913,\n",
       "       42.434929, 42.448944, 42.46296 , 42.476975, 42.490991, 42.505006,\n",
       "       42.519022, 42.533037, 42.547053, 42.561068, 42.575084, 42.589099,\n",
       "       42.603115, 42.61713 , 42.631146, 42.645161, 42.659177, 42.673192,\n",
       "       42.687208, 42.701223, 42.715239, 42.729254, 42.74327 , 42.757285,\n",
       "       42.771301, 42.785317, 42.799332, 42.813348, 42.827363, 42.841379,\n",
       "       42.855394, 42.86941 , 42.883425, 42.897441, 42.911456, 42.925472,\n",
       "       42.939487, 42.953503, 42.967518, 42.981534, 42.995549])</pre></div></li><li class='xr-var-item'><div class='xr-var-name'><span class='xr-has-index'>longitude</span></div><div class='xr-var-dims'>(longitude)</div><div class='xr-var-dtype'>float64</div><div class='xr-var-preview xr-preview'>-83.51 -83.49 ... -78.52 -78.5</div><input id='attrs-abe559d8-6544-4f74-9876-f4a73e401bcd' class='xr-var-attrs-in' type='checkbox' disabled><label for='attrs-abe559d8-6544-4f74-9876-f4a73e401bcd' title='Show/Hide attributes'><svg class='icon xr-icon-file-text2'><use xlink:href='#icon-file-text2'></use></svg></label><input id='data-f3eaba6f-d409-489f-98bf-6164aa91a637' class='xr-var-data-in' type='checkbox'><label for='data-f3eaba6f-d409-489f-98bf-6164aa91a637' title='Show/Hide data repr'><svg class='icon xr-icon-database'><use xlink:href='#icon-database'></use></svg></label><div class='xr-var-attrs'><dl class='xr-attrs'></dl></div><div class='xr-var-data'><pre>array([-83.506082, -83.492066, -83.478051, ..., -78.530573, -78.516558,\n",
       "       -78.502542])</pre></div></li></ul></div></li><li class='xr-section-item'><input id='section-af61c0cc-a8d6-49f4-8234-f68e5f719ed2' class='xr-section-summary-in' type='checkbox'  checked><label for='section-af61c0cc-a8d6-49f4-8234-f68e5f719ed2' class='xr-section-summary' >Data variables: <span>(1)</span></label><div class='xr-section-inline-details'></div><div class='xr-section-details'><ul class='xr-var-list'><li class='xr-var-item'><div class='xr-var-name'><span>sst</span></div><div class='xr-var-dims'>(time, latitude, longitude)</div><div class='xr-var-dtype'>float64</div><div class='xr-var-preview xr-preview'>nan nan nan nan ... nan nan nan nan</div><input id='attrs-6d9f9ac7-7074-42c1-b45c-0cad509ba9c4' class='xr-var-attrs-in' type='checkbox' disabled><label for='attrs-6d9f9ac7-7074-42c1-b45c-0cad509ba9c4' title='Show/Hide attributes'><svg class='icon xr-icon-file-text2'><use xlink:href='#icon-file-text2'></use></svg></label><input id='data-fd95b8bd-fd74-4531-a025-e8d7d73909ef' class='xr-var-data-in' type='checkbox'><label for='data-fd95b8bd-fd74-4531-a025-e8d7d73909ef' title='Show/Hide data repr'><svg class='icon xr-icon-database'><use xlink:href='#icon-database'></use></svg></label><div class='xr-var-attrs'><dl class='xr-attrs'></dl></div><div class='xr-var-data'><pre>array([[[nan, nan, nan, ..., nan, nan, nan],\n",
       "        [nan, nan, nan, ..., nan, nan, nan],\n",
       "        [nan, nan, nan, ..., nan, nan, nan],\n",
       "        ...,\n",
       "        [nan, nan, nan, ..., nan, nan, nan],\n",
       "        [nan, nan, nan, ..., nan, nan, nan],\n",
       "        [nan, nan, nan, ..., nan, nan, nan]],\n",
       "\n",
       "       [[nan, nan, nan, ..., nan, nan, nan],\n",
       "        [nan, nan, nan, ..., nan, nan, nan],\n",
       "        [nan, nan, nan, ..., nan, nan, nan],\n",
       "        ...,\n",
       "        [nan, nan, nan, ..., nan, nan, nan],\n",
       "        [nan, nan, nan, ..., nan, nan, nan],\n",
       "        [nan, nan, nan, ..., nan, nan, nan]],\n",
       "\n",
       "       [[nan, nan, nan, ..., nan, nan, nan],\n",
       "        [nan, nan, nan, ..., nan, nan, nan],\n",
       "        [nan, nan, nan, ..., nan, nan, nan],\n",
       "        ...,\n",
       "...\n",
       "        ...,\n",
       "        [nan, nan, nan, ..., nan, nan, nan],\n",
       "        [nan, nan, nan, ..., nan, nan, nan],\n",
       "        [nan, nan, nan, ..., nan, nan, nan]],\n",
       "\n",
       "       [[nan, nan, nan, ..., nan, nan, nan],\n",
       "        [nan, nan, nan, ..., nan, nan, nan],\n",
       "        [nan, nan, nan, ..., nan, nan, nan],\n",
       "        ...,\n",
       "        [nan, nan, nan, ..., nan, nan, nan],\n",
       "        [nan, nan, nan, ..., nan, nan, nan],\n",
       "        [nan, nan, nan, ..., nan, nan, nan]],\n",
       "\n",
       "       [[nan, nan, nan, ..., nan, nan, nan],\n",
       "        [nan, nan, nan, ..., nan, nan, nan],\n",
       "        [nan, nan, nan, ..., nan, nan, nan],\n",
       "        ...,\n",
       "        [nan, nan, nan, ..., nan, nan, nan],\n",
       "        [nan, nan, nan, ..., nan, nan, nan],\n",
       "        [nan, nan, nan, ..., nan, nan, nan]]])</pre></div></li></ul></div></li><li class='xr-section-item'><input id='section-1ecfa750-459a-48a7-9877-1ed1355fe302' class='xr-section-summary-in' type='checkbox'  ><label for='section-1ecfa750-459a-48a7-9877-1ed1355fe302' class='xr-section-summary' >Indexes: <span>(3)</span></label><div class='xr-section-inline-details'></div><div class='xr-section-details'><ul class='xr-var-list'><li class='xr-var-item'><div class='xr-index-name'><div>time</div></div><div class='xr-index-preview'>PandasIndex</div><div></div><input id='index-d6fe2b51-7d1e-47b8-8850-6aed80db0805' class='xr-index-data-in' type='checkbox'/><label for='index-d6fe2b51-7d1e-47b8-8850-6aed80db0805' title='Show/Hide index repr'><svg class='icon xr-icon-database'><use xlink:href='#icon-database'></use></svg></label><div class='xr-index-data'><pre>PandasIndex(Index([&#x27;2023-06-01T12:00:00Z&#x27;, &#x27;2023-06-02T12:00:00Z&#x27;, &#x27;2023-06-03T12:00:00Z&#x27;,\n",
       "       &#x27;2023-06-04T12:00:00Z&#x27;, &#x27;2023-06-05T12:00:00Z&#x27;, &#x27;2023-06-06T12:00:00Z&#x27;,\n",
       "       &#x27;2023-06-07T12:00:00Z&#x27;, &#x27;2023-06-08T12:00:00Z&#x27;, &#x27;2023-06-09T12:00:00Z&#x27;,\n",
       "       &#x27;2023-06-10T12:00:00Z&#x27;, &#x27;2023-06-11T12:00:00Z&#x27;, &#x27;2023-06-12T12:00:00Z&#x27;,\n",
       "       &#x27;2023-06-13T12:00:00Z&#x27;, &#x27;2023-06-14T12:00:00Z&#x27;, &#x27;2023-06-15T12:00:00Z&#x27;,\n",
       "       &#x27;2023-06-16T12:00:00Z&#x27;, &#x27;2023-06-17T12:00:00Z&#x27;, &#x27;2023-06-18T12:00:00Z&#x27;,\n",
       "       &#x27;2023-06-19T12:00:00Z&#x27;, &#x27;2023-06-20T12:00:00Z&#x27;, &#x27;2023-06-21T12:00:00Z&#x27;,\n",
       "       &#x27;2023-06-22T12:00:00Z&#x27;, &#x27;2023-06-23T12:00:00Z&#x27;, &#x27;2023-06-24T12:00:00Z&#x27;,\n",
       "       &#x27;2023-06-25T12:00:00Z&#x27;, &#x27;2023-06-26T12:00:00Z&#x27;, &#x27;2023-06-27T12:00:00Z&#x27;,\n",
       "       &#x27;2023-06-28T12:00:00Z&#x27;, &#x27;2023-06-29T12:00:00Z&#x27;, &#x27;2023-06-30T12:00:00Z&#x27;],\n",
       "      dtype=&#x27;object&#x27;, name=&#x27;time&#x27;))</pre></div></li><li class='xr-var-item'><div class='xr-index-name'><div>latitude</div></div><div class='xr-index-preview'>PandasIndex</div><div></div><input id='index-c620334b-1c58-4a69-9520-50a670bf3aae' class='xr-index-data-in' type='checkbox'/><label for='index-c620334b-1c58-4a69-9520-50a670bf3aae' title='Show/Hide index repr'><svg class='icon xr-icon-database'><use xlink:href='#icon-database'></use></svg></label><div class='xr-index-data'><pre>PandasIndex(Index([41.0053458284746, 41.0193613458019, 41.0333768631292, 41.0473923804564,\n",
       "       41.0614078977837,  41.075423415111, 41.0894389324382, 41.1034544497655,\n",
       "       41.1174699670928,   41.13148548442,\n",
       "       ...\n",
       "       42.8694096330014, 42.8834251503287, 42.8974406676559, 42.9114561849832,\n",
       "       42.9254717023105, 42.9394872196377,  42.953502736965, 42.9675182542923,\n",
       "       42.9815337716195, 42.9955492889468],\n",
       "      dtype=&#x27;float64&#x27;, name=&#x27;latitude&#x27;, length=143))</pre></div></li><li class='xr-var-item'><div class='xr-index-name'><div>longitude</div></div><div class='xr-index-preview'>PandasIndex</div><div></div><input id='index-ae15f0c2-71e8-4b2a-9875-fb53aac3e14a' class='xr-index-data-in' type='checkbox'/><label for='index-ae15f0c2-71e8-4b2a-9875-fb53aac3e14a' title='Show/Hide index repr'><svg class='icon xr-icon-database'><use xlink:href='#icon-database'></use></svg></label><div class='xr-index-data'><pre>PandasIndex(Index([-83.5060817140874, -83.4920661967601, -83.4780506794328,\n",
       "       -83.4640351621056, -83.4500196447783,  -83.436004127451,\n",
       "       -83.4219886101238, -83.4079730927965, -83.3939575754692,\n",
       "       -83.3799420581419,\n",
       "       ...\n",
       "       -78.6286816841978, -78.6146661668705, -78.6006506495432,\n",
       "        -78.586635132216, -78.5726196148887, -78.5586040975614,\n",
       "       -78.5445885802342, -78.5305730629069, -78.5165575455796,\n",
       "       -78.5025420282523],\n",
       "      dtype=&#x27;float64&#x27;, name=&#x27;longitude&#x27;, length=358))</pre></div></li></ul></div></li><li class='xr-section-item'><input id='section-33ae3d81-dcda-42f7-9255-b0988091edd4' class='xr-section-summary-in' type='checkbox'  checked><label for='section-33ae3d81-dcda-42f7-9255-b0988091edd4' class='xr-section-summary' >Attributes: <span>(1)</span></label><div class='xr-section-inline-details'></div><div class='xr-section-details'><dl class='xr-attrs'><dt><span>description :</span></dt><dd>Weather surface temperature</dd></dl></div></li></ul></div></div>"
      ],
      "text/plain": [
       "<xarray.Dataset>\n",
       "Dimensions:    (time: 30, latitude: 143, longitude: 358)\n",
       "Coordinates:\n",
       "  * time       (time) <U20 '2023-06-01T12:00:00Z' ... '2023-06-30T12:00:00Z'\n",
       "  * latitude   (latitude) float64 41.01 41.02 41.03 41.05 ... 42.97 42.98 43.0\n",
       "  * longitude  (longitude) float64 -83.51 -83.49 -83.48 ... -78.53 -78.52 -78.5\n",
       "Data variables:\n",
       "    sst        (time, latitude, longitude) float64 nan nan nan ... nan nan nan\n",
       "Attributes:\n",
       "    description:  Weather surface temperature"
      ]
     },
     "execution_count": 54,
     "metadata": {},
     "output_type": "execute_result"
    }
   ],
   "source": [
    "ds"
   ]
  },
  {
   "cell_type": "code",
   "execution_count": 55,
   "metadata": {},
   "outputs": [
    {
     "name": "stdout",
     "output_type": "stream",
     "text": [
      "<xarray.Dataset>\n",
      "Dimensions:    (time: 30, latitude: 143, longitude: 358)\n",
      "Coordinates:\n",
      "  * time       (time) <U20 '2023-06-01T12:00:00Z' ... '2023-06-30T12:00:00Z'\n",
      "  * latitude   (latitude) float64 41.01 41.02 41.03 41.05 ... 42.97 42.98 43.0\n",
      "  * longitude  (longitude) float64 -83.51 -83.49 -83.48 ... -78.53 -78.52 -78.5\n",
      "Data variables:\n",
      "    sst        (time, latitude, longitude) float64 nan nan nan ... nan nan nan\n",
      "Attributes:\n",
      "    description:  Weather surface temperature\n"
     ]
    }
   ],
   "source": [
    "print(ds)"
   ]
  },
  {
   "cell_type": "markdown",
   "metadata": {},
   "source": [
    "#### - Examine which coordinates and variables are included in the dataset:"
   ]
  },
  {
   "cell_type": "code",
   "execution_count": null,
   "metadata": {},
   "outputs": [],
   "source": [
    "#ds.dims"
   ]
  },
  {
   "cell_type": "code",
   "execution_count": 56,
   "metadata": {},
   "outputs": [
    {
     "data": {
      "text/plain": [
       "Coordinates:\n",
       "  * time       (time) <U20 '2023-06-01T12:00:00Z' ... '2023-06-30T12:00:00Z'\n",
       "  * latitude   (latitude) float64 41.01 41.02 41.03 41.05 ... 42.97 42.98 43.0\n",
       "  * longitude  (longitude) float64 -83.51 -83.49 -83.48 ... -78.53 -78.52 -78.5"
      ]
     },
     "execution_count": 56,
     "metadata": {},
     "output_type": "execute_result"
    }
   ],
   "source": [
    "ds.coords"
   ]
  },
  {
   "cell_type": "code",
   "execution_count": 57,
   "metadata": {},
   "outputs": [
    {
     "data": {
      "text/plain": [
       "Data variables:\n",
       "    sst      (time, latitude, longitude) float64 nan nan nan nan ... nan nan nan"
      ]
     },
     "execution_count": 57,
     "metadata": {},
     "output_type": "execute_result"
    }
   ],
   "source": [
    "ds.data_vars"
   ]
  },
  {
   "cell_type": "code",
   "execution_count": null,
   "metadata": {},
   "outputs": [],
   "source": [
    "ds.attrs"
   ]
  },
  {
   "cell_type": "markdown",
   "metadata": {},
   "source": [
    "#### - Examine the structure of sst:"
   ]
  },
  {
   "cell_type": "code",
   "execution_count": 58,
   "metadata": {},
   "outputs": [
    {
     "data": {
      "text/plain": [
       "(30, 143, 358)"
      ]
     },
     "execution_count": 58,
     "metadata": {},
     "output_type": "execute_result"
    }
   ],
   "source": [
    "ds.sst.shape"
   ]
  },
  {
   "cell_type": "markdown",
   "metadata": {},
   "source": [
    "Our dataset is a 3-D array with 143 rows corresponding to latitudes and 358 columns corresponding to longitudes,  for each of the 30 time steps.\n",
    "\n",
    "#### - Get the dates for each time step:"
   ]
  },
  {
   "cell_type": "code",
   "execution_count": 59,
   "metadata": {},
   "outputs": [
    {
     "data": {
      "text/html": [
       "<div><svg style=\"position: absolute; width: 0; height: 0; overflow: hidden\">\n",
       "<defs>\n",
       "<symbol id=\"icon-database\" viewBox=\"0 0 32 32\">\n",
       "<path d=\"M16 0c-8.837 0-16 2.239-16 5v4c0 2.761 7.163 5 16 5s16-2.239 16-5v-4c0-2.761-7.163-5-16-5z\"></path>\n",
       "<path d=\"M16 17c-8.837 0-16-2.239-16-5v6c0 2.761 7.163 5 16 5s16-2.239 16-5v-6c0 2.761-7.163 5-16 5z\"></path>\n",
       "<path d=\"M16 26c-8.837 0-16-2.239-16-5v6c0 2.761 7.163 5 16 5s16-2.239 16-5v-6c0 2.761-7.163 5-16 5z\"></path>\n",
       "</symbol>\n",
       "<symbol id=\"icon-file-text2\" viewBox=\"0 0 32 32\">\n",
       "<path d=\"M28.681 7.159c-0.694-0.947-1.662-2.053-2.724-3.116s-2.169-2.030-3.116-2.724c-1.612-1.182-2.393-1.319-2.841-1.319h-15.5c-1.378 0-2.5 1.121-2.5 2.5v27c0 1.378 1.122 2.5 2.5 2.5h23c1.378 0 2.5-1.122 2.5-2.5v-19.5c0-0.448-0.137-1.23-1.319-2.841zM24.543 5.457c0.959 0.959 1.712 1.825 2.268 2.543h-4.811v-4.811c0.718 0.556 1.584 1.309 2.543 2.268zM28 29.5c0 0.271-0.229 0.5-0.5 0.5h-23c-0.271 0-0.5-0.229-0.5-0.5v-27c0-0.271 0.229-0.5 0.5-0.5 0 0 15.499-0 15.5 0v7c0 0.552 0.448 1 1 1h7v19.5z\"></path>\n",
       "<path d=\"M23 26h-14c-0.552 0-1-0.448-1-1s0.448-1 1-1h14c0.552 0 1 0.448 1 1s-0.448 1-1 1z\"></path>\n",
       "<path d=\"M23 22h-14c-0.552 0-1-0.448-1-1s0.448-1 1-1h14c0.552 0 1 0.448 1 1s-0.448 1-1 1z\"></path>\n",
       "<path d=\"M23 18h-14c-0.552 0-1-0.448-1-1s0.448-1 1-1h14c0.552 0 1 0.448 1 1s-0.448 1-1 1z\"></path>\n",
       "</symbol>\n",
       "</defs>\n",
       "</svg>\n",
       "<style>/* CSS stylesheet for displaying xarray objects in jupyterlab.\n",
       " *\n",
       " */\n",
       "\n",
       ":root {\n",
       "  --xr-font-color0: var(--jp-content-font-color0, rgba(0, 0, 0, 1));\n",
       "  --xr-font-color2: var(--jp-content-font-color2, rgba(0, 0, 0, 0.54));\n",
       "  --xr-font-color3: var(--jp-content-font-color3, rgba(0, 0, 0, 0.38));\n",
       "  --xr-border-color: var(--jp-border-color2, #e0e0e0);\n",
       "  --xr-disabled-color: var(--jp-layout-color3, #bdbdbd);\n",
       "  --xr-background-color: var(--jp-layout-color0, white);\n",
       "  --xr-background-color-row-even: var(--jp-layout-color1, white);\n",
       "  --xr-background-color-row-odd: var(--jp-layout-color2, #eeeeee);\n",
       "}\n",
       "\n",
       "html[theme=dark],\n",
       "body[data-theme=dark],\n",
       "body.vscode-dark {\n",
       "  --xr-font-color0: rgba(255, 255, 255, 1);\n",
       "  --xr-font-color2: rgba(255, 255, 255, 0.54);\n",
       "  --xr-font-color3: rgba(255, 255, 255, 0.38);\n",
       "  --xr-border-color: #1F1F1F;\n",
       "  --xr-disabled-color: #515151;\n",
       "  --xr-background-color: #111111;\n",
       "  --xr-background-color-row-even: #111111;\n",
       "  --xr-background-color-row-odd: #313131;\n",
       "}\n",
       "\n",
       ".xr-wrap {\n",
       "  display: block !important;\n",
       "  min-width: 300px;\n",
       "  max-width: 700px;\n",
       "}\n",
       "\n",
       ".xr-text-repr-fallback {\n",
       "  /* fallback to plain text repr when CSS is not injected (untrusted notebook) */\n",
       "  display: none;\n",
       "}\n",
       "\n",
       ".xr-header {\n",
       "  padding-top: 6px;\n",
       "  padding-bottom: 6px;\n",
       "  margin-bottom: 4px;\n",
       "  border-bottom: solid 1px var(--xr-border-color);\n",
       "}\n",
       "\n",
       ".xr-header > div,\n",
       ".xr-header > ul {\n",
       "  display: inline;\n",
       "  margin-top: 0;\n",
       "  margin-bottom: 0;\n",
       "}\n",
       "\n",
       ".xr-obj-type,\n",
       ".xr-array-name {\n",
       "  margin-left: 2px;\n",
       "  margin-right: 10px;\n",
       "}\n",
       "\n",
       ".xr-obj-type {\n",
       "  color: var(--xr-font-color2);\n",
       "}\n",
       "\n",
       ".xr-sections {\n",
       "  padding-left: 0 !important;\n",
       "  display: grid;\n",
       "  grid-template-columns: 150px auto auto 1fr 20px 20px;\n",
       "}\n",
       "\n",
       ".xr-section-item {\n",
       "  display: contents;\n",
       "}\n",
       "\n",
       ".xr-section-item input {\n",
       "  display: none;\n",
       "}\n",
       "\n",
       ".xr-section-item input + label {\n",
       "  color: var(--xr-disabled-color);\n",
       "}\n",
       "\n",
       ".xr-section-item input:enabled + label {\n",
       "  cursor: pointer;\n",
       "  color: var(--xr-font-color2);\n",
       "}\n",
       "\n",
       ".xr-section-item input:enabled + label:hover {\n",
       "  color: var(--xr-font-color0);\n",
       "}\n",
       "\n",
       ".xr-section-summary {\n",
       "  grid-column: 1;\n",
       "  color: var(--xr-font-color2);\n",
       "  font-weight: 500;\n",
       "}\n",
       "\n",
       ".xr-section-summary > span {\n",
       "  display: inline-block;\n",
       "  padding-left: 0.5em;\n",
       "}\n",
       "\n",
       ".xr-section-summary-in:disabled + label {\n",
       "  color: var(--xr-font-color2);\n",
       "}\n",
       "\n",
       ".xr-section-summary-in + label:before {\n",
       "  display: inline-block;\n",
       "  content: '►';\n",
       "  font-size: 11px;\n",
       "  width: 15px;\n",
       "  text-align: center;\n",
       "}\n",
       "\n",
       ".xr-section-summary-in:disabled + label:before {\n",
       "  color: var(--xr-disabled-color);\n",
       "}\n",
       "\n",
       ".xr-section-summary-in:checked + label:before {\n",
       "  content: '▼';\n",
       "}\n",
       "\n",
       ".xr-section-summary-in:checked + label > span {\n",
       "  display: none;\n",
       "}\n",
       "\n",
       ".xr-section-summary,\n",
       ".xr-section-inline-details {\n",
       "  padding-top: 4px;\n",
       "  padding-bottom: 4px;\n",
       "}\n",
       "\n",
       ".xr-section-inline-details {\n",
       "  grid-column: 2 / -1;\n",
       "}\n",
       "\n",
       ".xr-section-details {\n",
       "  display: none;\n",
       "  grid-column: 1 / -1;\n",
       "  margin-bottom: 5px;\n",
       "}\n",
       "\n",
       ".xr-section-summary-in:checked ~ .xr-section-details {\n",
       "  display: contents;\n",
       "}\n",
       "\n",
       ".xr-array-wrap {\n",
       "  grid-column: 1 / -1;\n",
       "  display: grid;\n",
       "  grid-template-columns: 20px auto;\n",
       "}\n",
       "\n",
       ".xr-array-wrap > label {\n",
       "  grid-column: 1;\n",
       "  vertical-align: top;\n",
       "}\n",
       "\n",
       ".xr-preview {\n",
       "  color: var(--xr-font-color3);\n",
       "}\n",
       "\n",
       ".xr-array-preview,\n",
       ".xr-array-data {\n",
       "  padding: 0 5px !important;\n",
       "  grid-column: 2;\n",
       "}\n",
       "\n",
       ".xr-array-data,\n",
       ".xr-array-in:checked ~ .xr-array-preview {\n",
       "  display: none;\n",
       "}\n",
       "\n",
       ".xr-array-in:checked ~ .xr-array-data,\n",
       ".xr-array-preview {\n",
       "  display: inline-block;\n",
       "}\n",
       "\n",
       ".xr-dim-list {\n",
       "  display: inline-block !important;\n",
       "  list-style: none;\n",
       "  padding: 0 !important;\n",
       "  margin: 0;\n",
       "}\n",
       "\n",
       ".xr-dim-list li {\n",
       "  display: inline-block;\n",
       "  padding: 0;\n",
       "  margin: 0;\n",
       "}\n",
       "\n",
       ".xr-dim-list:before {\n",
       "  content: '(';\n",
       "}\n",
       "\n",
       ".xr-dim-list:after {\n",
       "  content: ')';\n",
       "}\n",
       "\n",
       ".xr-dim-list li:not(:last-child):after {\n",
       "  content: ',';\n",
       "  padding-right: 5px;\n",
       "}\n",
       "\n",
       ".xr-has-index {\n",
       "  font-weight: bold;\n",
       "}\n",
       "\n",
       ".xr-var-list,\n",
       ".xr-var-item {\n",
       "  display: contents;\n",
       "}\n",
       "\n",
       ".xr-var-item > div,\n",
       ".xr-var-item label,\n",
       ".xr-var-item > .xr-var-name span {\n",
       "  background-color: var(--xr-background-color-row-even);\n",
       "  margin-bottom: 0;\n",
       "}\n",
       "\n",
       ".xr-var-item > .xr-var-name:hover span {\n",
       "  padding-right: 5px;\n",
       "}\n",
       "\n",
       ".xr-var-list > li:nth-child(odd) > div,\n",
       ".xr-var-list > li:nth-child(odd) > label,\n",
       ".xr-var-list > li:nth-child(odd) > .xr-var-name span {\n",
       "  background-color: var(--xr-background-color-row-odd);\n",
       "}\n",
       "\n",
       ".xr-var-name {\n",
       "  grid-column: 1;\n",
       "}\n",
       "\n",
       ".xr-var-dims {\n",
       "  grid-column: 2;\n",
       "}\n",
       "\n",
       ".xr-var-dtype {\n",
       "  grid-column: 3;\n",
       "  text-align: right;\n",
       "  color: var(--xr-font-color2);\n",
       "}\n",
       "\n",
       ".xr-var-preview {\n",
       "  grid-column: 4;\n",
       "}\n",
       "\n",
       ".xr-index-preview {\n",
       "  grid-column: 2 / 5;\n",
       "  color: var(--xr-font-color2);\n",
       "}\n",
       "\n",
       ".xr-var-name,\n",
       ".xr-var-dims,\n",
       ".xr-var-dtype,\n",
       ".xr-preview,\n",
       ".xr-attrs dt {\n",
       "  white-space: nowrap;\n",
       "  overflow: hidden;\n",
       "  text-overflow: ellipsis;\n",
       "  padding-right: 10px;\n",
       "}\n",
       "\n",
       ".xr-var-name:hover,\n",
       ".xr-var-dims:hover,\n",
       ".xr-var-dtype:hover,\n",
       ".xr-attrs dt:hover {\n",
       "  overflow: visible;\n",
       "  width: auto;\n",
       "  z-index: 1;\n",
       "}\n",
       "\n",
       ".xr-var-attrs,\n",
       ".xr-var-data,\n",
       ".xr-index-data {\n",
       "  display: none;\n",
       "  background-color: var(--xr-background-color) !important;\n",
       "  padding-bottom: 5px !important;\n",
       "}\n",
       "\n",
       ".xr-var-attrs-in:checked ~ .xr-var-attrs,\n",
       ".xr-var-data-in:checked ~ .xr-var-data,\n",
       ".xr-index-data-in:checked ~ .xr-index-data {\n",
       "  display: block;\n",
       "}\n",
       "\n",
       ".xr-var-data > table {\n",
       "  float: right;\n",
       "}\n",
       "\n",
       ".xr-var-name span,\n",
       ".xr-var-data,\n",
       ".xr-index-name div,\n",
       ".xr-index-data,\n",
       ".xr-attrs {\n",
       "  padding-left: 25px !important;\n",
       "}\n",
       "\n",
       ".xr-attrs,\n",
       ".xr-var-attrs,\n",
       ".xr-var-data,\n",
       ".xr-index-data {\n",
       "  grid-column: 1 / -1;\n",
       "}\n",
       "\n",
       "dl.xr-attrs {\n",
       "  padding: 0;\n",
       "  margin: 0;\n",
       "  display: grid;\n",
       "  grid-template-columns: 125px auto;\n",
       "}\n",
       "\n",
       ".xr-attrs dt,\n",
       ".xr-attrs dd {\n",
       "  padding: 0;\n",
       "  margin: 0;\n",
       "  float: left;\n",
       "  padding-right: 10px;\n",
       "  width: auto;\n",
       "}\n",
       "\n",
       ".xr-attrs dt {\n",
       "  font-weight: normal;\n",
       "  grid-column: 1;\n",
       "}\n",
       "\n",
       ".xr-attrs dt:hover span {\n",
       "  display: inline-block;\n",
       "  background: var(--xr-background-color);\n",
       "  padding-right: 10px;\n",
       "}\n",
       "\n",
       ".xr-attrs dd {\n",
       "  grid-column: 2;\n",
       "  white-space: pre-wrap;\n",
       "  word-break: break-all;\n",
       "}\n",
       "\n",
       ".xr-icon-database,\n",
       ".xr-icon-file-text2,\n",
       ".xr-no-icon {\n",
       "  display: inline-block;\n",
       "  vertical-align: middle;\n",
       "  width: 1em;\n",
       "  height: 1.5em !important;\n",
       "  stroke-width: 0;\n",
       "  stroke: currentColor;\n",
       "  fill: currentColor;\n",
       "}\n",
       "</style><pre class='xr-text-repr-fallback'>&lt;xarray.DataArray &#x27;time&#x27; (time: 30)&gt;\n",
       "array([&#x27;2023-06-01T12:00:00Z&#x27;, &#x27;2023-06-02T12:00:00Z&#x27;, &#x27;2023-06-03T12:00:00Z&#x27;,\n",
       "       &#x27;2023-06-04T12:00:00Z&#x27;, &#x27;2023-06-05T12:00:00Z&#x27;, &#x27;2023-06-06T12:00:00Z&#x27;,\n",
       "       &#x27;2023-06-07T12:00:00Z&#x27;, &#x27;2023-06-08T12:00:00Z&#x27;, &#x27;2023-06-09T12:00:00Z&#x27;,\n",
       "       &#x27;2023-06-10T12:00:00Z&#x27;, &#x27;2023-06-11T12:00:00Z&#x27;, &#x27;2023-06-12T12:00:00Z&#x27;,\n",
       "       &#x27;2023-06-13T12:00:00Z&#x27;, &#x27;2023-06-14T12:00:00Z&#x27;, &#x27;2023-06-15T12:00:00Z&#x27;,\n",
       "       &#x27;2023-06-16T12:00:00Z&#x27;, &#x27;2023-06-17T12:00:00Z&#x27;, &#x27;2023-06-18T12:00:00Z&#x27;,\n",
       "       &#x27;2023-06-19T12:00:00Z&#x27;, &#x27;2023-06-20T12:00:00Z&#x27;, &#x27;2023-06-21T12:00:00Z&#x27;,\n",
       "       &#x27;2023-06-22T12:00:00Z&#x27;, &#x27;2023-06-23T12:00:00Z&#x27;, &#x27;2023-06-24T12:00:00Z&#x27;,\n",
       "       &#x27;2023-06-25T12:00:00Z&#x27;, &#x27;2023-06-26T12:00:00Z&#x27;, &#x27;2023-06-27T12:00:00Z&#x27;,\n",
       "       &#x27;2023-06-28T12:00:00Z&#x27;, &#x27;2023-06-29T12:00:00Z&#x27;, &#x27;2023-06-30T12:00:00Z&#x27;],\n",
       "      dtype=&#x27;&lt;U20&#x27;)\n",
       "Coordinates:\n",
       "  * time     (time) &lt;U20 &#x27;2023-06-01T12:00:00Z&#x27; ... &#x27;2023-06-30T12:00:00Z&#x27;</pre><div class='xr-wrap' style='display:none'><div class='xr-header'><div class='xr-obj-type'>xarray.DataArray</div><div class='xr-array-name'>'time'</div><ul class='xr-dim-list'><li><span class='xr-has-index'>time</span>: 30</li></ul></div><ul class='xr-sections'><li class='xr-section-item'><div class='xr-array-wrap'><input id='section-d5ab8b75-646a-4016-8686-810bcc987e45' class='xr-array-in' type='checkbox' checked><label for='section-d5ab8b75-646a-4016-8686-810bcc987e45' title='Show/hide data repr'><svg class='icon xr-icon-database'><use xlink:href='#icon-database'></use></svg></label><div class='xr-array-preview xr-preview'><span>&#x27;2023-06-01T12:00:00Z&#x27; ... &#x27;2023-06-30T12:00:00Z&#x27;</span></div><div class='xr-array-data'><pre>array([&#x27;2023-06-01T12:00:00Z&#x27;, &#x27;2023-06-02T12:00:00Z&#x27;, &#x27;2023-06-03T12:00:00Z&#x27;,\n",
       "       &#x27;2023-06-04T12:00:00Z&#x27;, &#x27;2023-06-05T12:00:00Z&#x27;, &#x27;2023-06-06T12:00:00Z&#x27;,\n",
       "       &#x27;2023-06-07T12:00:00Z&#x27;, &#x27;2023-06-08T12:00:00Z&#x27;, &#x27;2023-06-09T12:00:00Z&#x27;,\n",
       "       &#x27;2023-06-10T12:00:00Z&#x27;, &#x27;2023-06-11T12:00:00Z&#x27;, &#x27;2023-06-12T12:00:00Z&#x27;,\n",
       "       &#x27;2023-06-13T12:00:00Z&#x27;, &#x27;2023-06-14T12:00:00Z&#x27;, &#x27;2023-06-15T12:00:00Z&#x27;,\n",
       "       &#x27;2023-06-16T12:00:00Z&#x27;, &#x27;2023-06-17T12:00:00Z&#x27;, &#x27;2023-06-18T12:00:00Z&#x27;,\n",
       "       &#x27;2023-06-19T12:00:00Z&#x27;, &#x27;2023-06-20T12:00:00Z&#x27;, &#x27;2023-06-21T12:00:00Z&#x27;,\n",
       "       &#x27;2023-06-22T12:00:00Z&#x27;, &#x27;2023-06-23T12:00:00Z&#x27;, &#x27;2023-06-24T12:00:00Z&#x27;,\n",
       "       &#x27;2023-06-25T12:00:00Z&#x27;, &#x27;2023-06-26T12:00:00Z&#x27;, &#x27;2023-06-27T12:00:00Z&#x27;,\n",
       "       &#x27;2023-06-28T12:00:00Z&#x27;, &#x27;2023-06-29T12:00:00Z&#x27;, &#x27;2023-06-30T12:00:00Z&#x27;],\n",
       "      dtype=&#x27;&lt;U20&#x27;)</pre></div></div></li><li class='xr-section-item'><input id='section-8bde6241-717e-4d26-86e6-df62df7cdaa4' class='xr-section-summary-in' type='checkbox'  checked><label for='section-8bde6241-717e-4d26-86e6-df62df7cdaa4' class='xr-section-summary' >Coordinates: <span>(1)</span></label><div class='xr-section-inline-details'></div><div class='xr-section-details'><ul class='xr-var-list'><li class='xr-var-item'><div class='xr-var-name'><span class='xr-has-index'>time</span></div><div class='xr-var-dims'>(time)</div><div class='xr-var-dtype'>&lt;U20</div><div class='xr-var-preview xr-preview'>&#x27;2023-06-01T12:00:00Z&#x27; ... &#x27;2023...</div><input id='attrs-8ce1cf78-306d-4726-a140-fb96bdc53b87' class='xr-var-attrs-in' type='checkbox' disabled><label for='attrs-8ce1cf78-306d-4726-a140-fb96bdc53b87' title='Show/Hide attributes'><svg class='icon xr-icon-file-text2'><use xlink:href='#icon-file-text2'></use></svg></label><input id='data-681a8536-b914-4b96-9fbc-1ba1d06be264' class='xr-var-data-in' type='checkbox'><label for='data-681a8536-b914-4b96-9fbc-1ba1d06be264' title='Show/Hide data repr'><svg class='icon xr-icon-database'><use xlink:href='#icon-database'></use></svg></label><div class='xr-var-attrs'><dl class='xr-attrs'></dl></div><div class='xr-var-data'><pre>array([&#x27;2023-06-01T12:00:00Z&#x27;, &#x27;2023-06-02T12:00:00Z&#x27;, &#x27;2023-06-03T12:00:00Z&#x27;,\n",
       "       &#x27;2023-06-04T12:00:00Z&#x27;, &#x27;2023-06-05T12:00:00Z&#x27;, &#x27;2023-06-06T12:00:00Z&#x27;,\n",
       "       &#x27;2023-06-07T12:00:00Z&#x27;, &#x27;2023-06-08T12:00:00Z&#x27;, &#x27;2023-06-09T12:00:00Z&#x27;,\n",
       "       &#x27;2023-06-10T12:00:00Z&#x27;, &#x27;2023-06-11T12:00:00Z&#x27;, &#x27;2023-06-12T12:00:00Z&#x27;,\n",
       "       &#x27;2023-06-13T12:00:00Z&#x27;, &#x27;2023-06-14T12:00:00Z&#x27;, &#x27;2023-06-15T12:00:00Z&#x27;,\n",
       "       &#x27;2023-06-16T12:00:00Z&#x27;, &#x27;2023-06-17T12:00:00Z&#x27;, &#x27;2023-06-18T12:00:00Z&#x27;,\n",
       "       &#x27;2023-06-19T12:00:00Z&#x27;, &#x27;2023-06-20T12:00:00Z&#x27;, &#x27;2023-06-21T12:00:00Z&#x27;,\n",
       "       &#x27;2023-06-22T12:00:00Z&#x27;, &#x27;2023-06-23T12:00:00Z&#x27;, &#x27;2023-06-24T12:00:00Z&#x27;,\n",
       "       &#x27;2023-06-25T12:00:00Z&#x27;, &#x27;2023-06-26T12:00:00Z&#x27;, &#x27;2023-06-27T12:00:00Z&#x27;,\n",
       "       &#x27;2023-06-28T12:00:00Z&#x27;, &#x27;2023-06-29T12:00:00Z&#x27;, &#x27;2023-06-30T12:00:00Z&#x27;],\n",
       "      dtype=&#x27;&lt;U20&#x27;)</pre></div></li></ul></div></li><li class='xr-section-item'><input id='section-29aa5396-cc4a-4875-92ff-0f592e45b96b' class='xr-section-summary-in' type='checkbox'  ><label for='section-29aa5396-cc4a-4875-92ff-0f592e45b96b' class='xr-section-summary' >Indexes: <span>(1)</span></label><div class='xr-section-inline-details'></div><div class='xr-section-details'><ul class='xr-var-list'><li class='xr-var-item'><div class='xr-index-name'><div>time</div></div><div class='xr-index-preview'>PandasIndex</div><div></div><input id='index-fd17390b-e80f-4c6b-83ec-f69af072fd41' class='xr-index-data-in' type='checkbox'/><label for='index-fd17390b-e80f-4c6b-83ec-f69af072fd41' title='Show/Hide index repr'><svg class='icon xr-icon-database'><use xlink:href='#icon-database'></use></svg></label><div class='xr-index-data'><pre>PandasIndex(Index([&#x27;2023-06-01T12:00:00Z&#x27;, &#x27;2023-06-02T12:00:00Z&#x27;, &#x27;2023-06-03T12:00:00Z&#x27;,\n",
       "       &#x27;2023-06-04T12:00:00Z&#x27;, &#x27;2023-06-05T12:00:00Z&#x27;, &#x27;2023-06-06T12:00:00Z&#x27;,\n",
       "       &#x27;2023-06-07T12:00:00Z&#x27;, &#x27;2023-06-08T12:00:00Z&#x27;, &#x27;2023-06-09T12:00:00Z&#x27;,\n",
       "       &#x27;2023-06-10T12:00:00Z&#x27;, &#x27;2023-06-11T12:00:00Z&#x27;, &#x27;2023-06-12T12:00:00Z&#x27;,\n",
       "       &#x27;2023-06-13T12:00:00Z&#x27;, &#x27;2023-06-14T12:00:00Z&#x27;, &#x27;2023-06-15T12:00:00Z&#x27;,\n",
       "       &#x27;2023-06-16T12:00:00Z&#x27;, &#x27;2023-06-17T12:00:00Z&#x27;, &#x27;2023-06-18T12:00:00Z&#x27;,\n",
       "       &#x27;2023-06-19T12:00:00Z&#x27;, &#x27;2023-06-20T12:00:00Z&#x27;, &#x27;2023-06-21T12:00:00Z&#x27;,\n",
       "       &#x27;2023-06-22T12:00:00Z&#x27;, &#x27;2023-06-23T12:00:00Z&#x27;, &#x27;2023-06-24T12:00:00Z&#x27;,\n",
       "       &#x27;2023-06-25T12:00:00Z&#x27;, &#x27;2023-06-26T12:00:00Z&#x27;, &#x27;2023-06-27T12:00:00Z&#x27;,\n",
       "       &#x27;2023-06-28T12:00:00Z&#x27;, &#x27;2023-06-29T12:00:00Z&#x27;, &#x27;2023-06-30T12:00:00Z&#x27;],\n",
       "      dtype=&#x27;object&#x27;, name=&#x27;time&#x27;))</pre></div></li></ul></div></li><li class='xr-section-item'><input id='section-2f458d6e-39b9-4bf2-812d-7ceb2e7d3ba6' class='xr-section-summary-in' type='checkbox' disabled ><label for='section-2f458d6e-39b9-4bf2-812d-7ceb2e7d3ba6' class='xr-section-summary'  title='Expand/collapse section'>Attributes: <span>(0)</span></label><div class='xr-section-inline-details'></div><div class='xr-section-details'><dl class='xr-attrs'></dl></div></li></ul></div></div>"
      ],
      "text/plain": [
       "<xarray.DataArray 'time' (time: 30)>\n",
       "array(['2023-06-01T12:00:00Z', '2023-06-02T12:00:00Z', '2023-06-03T12:00:00Z',\n",
       "       '2023-06-04T12:00:00Z', '2023-06-05T12:00:00Z', '2023-06-06T12:00:00Z',\n",
       "       '2023-06-07T12:00:00Z', '2023-06-08T12:00:00Z', '2023-06-09T12:00:00Z',\n",
       "       '2023-06-10T12:00:00Z', '2023-06-11T12:00:00Z', '2023-06-12T12:00:00Z',\n",
       "       '2023-06-13T12:00:00Z', '2023-06-14T12:00:00Z', '2023-06-15T12:00:00Z',\n",
       "       '2023-06-16T12:00:00Z', '2023-06-17T12:00:00Z', '2023-06-18T12:00:00Z',\n",
       "       '2023-06-19T12:00:00Z', '2023-06-20T12:00:00Z', '2023-06-21T12:00:00Z',\n",
       "       '2023-06-22T12:00:00Z', '2023-06-23T12:00:00Z', '2023-06-24T12:00:00Z',\n",
       "       '2023-06-25T12:00:00Z', '2023-06-26T12:00:00Z', '2023-06-27T12:00:00Z',\n",
       "       '2023-06-28T12:00:00Z', '2023-06-29T12:00:00Z', '2023-06-30T12:00:00Z'],\n",
       "      dtype='<U20')\n",
       "Coordinates:\n",
       "  * time     (time) <U20 '2023-06-01T12:00:00Z' ... '2023-06-30T12:00:00Z'"
      ]
     },
     "execution_count": 59,
     "metadata": {},
     "output_type": "execute_result"
    }
   ],
   "source": [
    "ds.time"
   ]
  },
  {
   "cell_type": "code",
   "execution_count": 60,
   "metadata": {},
   "outputs": [
    {
     "data": {
      "text/plain": [
       "{}"
      ]
     },
     "execution_count": 60,
     "metadata": {},
     "output_type": "execute_result"
    }
   ],
   "source": [
    "ds.time.attrs"
   ]
  },
  {
   "cell_type": "markdown",
   "metadata": {},
   "source": [
    "#### the time units is seconds, we need to convert the seconds to dates."
   ]
  },
  {
   "cell_type": "code",
   "execution_count": null,
   "metadata": {
    "scrolled": true
   },
   "outputs": [],
   "source": [
    "dates=nc.num2date(ds.time,ds.time.units,only_use_cftime_datetimes=False, \n",
    "                        only_use_python_datetimes=True )\n",
    "dates"
   ]
  },
  {
   "cell_type": "markdown",
   "metadata": {},
   "source": [
    "The datetime object includes year, month, hour, minutes, eg. 2021, 6, 12, 0."
   ]
  },
  {
   "cell_type": "markdown",
   "metadata": {},
   "source": [
    "## Working with the extracted data"
   ]
  },
  {
   "cell_type": "markdown",
   "metadata": {},
   "source": [
    "### Creating a map for one time step"
   ]
  },
  {
   "cell_type": "markdown",
   "metadata": {},
   "source": [
    "Let's create a map of SST for June 1, 2021 (our first time step)."
   ]
  },
  {
   "cell_type": "code",
   "execution_count": 69,
   "metadata": {},
   "outputs": [],
   "source": [
    "import pandas as pd\n",
    "import numpy as np\n",
    "from matplotlib import pyplot as plt\n",
    "from matplotlib.colors import LinearSegmentedColormap\n",
    "#np.warnings.filterwarnings('ignore')"
   ]
  },
  {
   "cell_type": "markdown",
   "metadata": {},
   "source": [
    "#### - Examine the values of sst:"
   ]
  },
  {
   "cell_type": "code",
   "execution_count": null,
   "metadata": {},
   "outputs": [],
   "source": [
    "ds.sst.values"
   ]
  },
  {
   "cell_type": "code",
   "execution_count": null,
   "metadata": {},
   "outputs": [],
   "source": [
    "ds.sst.attrs"
   ]
  },
  {
   "cell_type": "code",
   "execution_count": null,
   "metadata": {},
   "outputs": [],
   "source": [
    "ds.sst.attrs['_FillValue']"
   ]
  },
  {
   "cell_type": "code",
   "execution_count": null,
   "metadata": {},
   "outputs": [],
   "source": [
    "#ds.sst.dims\n",
    "#ds.sst.coords"
   ]
  },
  {
   "cell_type": "markdown",
   "metadata": {},
   "source": [
    "#### - Make a new sst DataArray and replace _fillValue with NaN"
   ]
  },
  {
   "cell_type": "code",
   "execution_count": null,
   "metadata": {},
   "outputs": [],
   "source": [
    "#nan_sst = ds.sst.where(ds.sst.values != -99999.0)\n",
    "nan_sst = ds.sst.where(ds.sst.values != ds.sst.attrs['_FillValue'])\n",
    "\n",
    "# nan_sst[time][latitude][longitude]\n",
    "#print(nan_sst[10][100][200])\n",
    "\n",
    "print(nan_sst)\n",
    "\n"
   ]
  },
  {
   "cell_type": "markdown",
   "metadata": {},
   "source": [
    "#### - Set some color breaks"
   ]
  },
  {
   "cell_type": "code",
   "execution_count": 61,
   "metadata": {
    "scrolled": false
   },
   "outputs": [
    {
     "data": {
      "text/plain": [
       "13.25"
      ]
     },
     "execution_count": 61,
     "metadata": {},
     "output_type": "execute_result"
    }
   ],
   "source": [
    "np.nanmin(ds.sst)\n"
   ]
  },
  {
   "cell_type": "code",
   "execution_count": 62,
   "metadata": {},
   "outputs": [
    {
     "data": {
      "text/plain": [
       "13.25"
      ]
     },
     "execution_count": 62,
     "metadata": {},
     "output_type": "execute_result"
    }
   ],
   "source": [
    "# find min value in sst\n",
    "np.nanmin(ds.sst)"
   ]
  },
  {
   "cell_type": "code",
   "execution_count": 63,
   "metadata": {},
   "outputs": [
    {
     "data": {
      "text/plain": [
       "23.35"
      ]
     },
     "execution_count": 63,
     "metadata": {},
     "output_type": "execute_result"
    }
   ],
   "source": [
    "np.nanmax(ds.sst)"
   ]
  },
  {
   "cell_type": "code",
   "execution_count": 64,
   "metadata": {},
   "outputs": [
    {
     "data": {
      "text/plain": [
       "203"
      ]
     },
     "execution_count": 64,
     "metadata": {},
     "output_type": "execute_result"
    }
   ],
   "source": [
    "levs = np.arange(13.25, 23.35, 0.05)\n",
    "len(levs)"
   ]
  },
  {
   "cell_type": "markdown",
   "metadata": {},
   "source": [
    "#### - Define a color palette"
   ]
  },
  {
   "cell_type": "code",
   "execution_count": 65,
   "metadata": {},
   "outputs": [],
   "source": [
    "# init a color list\n",
    "jet=[\"blue\", \"#007FFF\", \"cyan\",\"#7FFF7F\", \"yellow\", \"#FF7F00\", \"red\", \"#7F0000\"]\n"
   ]
  },
  {
   "cell_type": "markdown",
   "metadata": {},
   "source": [
    "#### - Set color scale using the jet palette"
   ]
  },
  {
   "cell_type": "code",
   "execution_count": 66,
   "metadata": {},
   "outputs": [
    {
     "ename": "NameError",
     "evalue": "name 'LinearSegmentedColormap' is not defined",
     "output_type": "error",
     "traceback": [
      "\u001b[1;31m---------------------------------------------------------------------------\u001b[0m",
      "\u001b[1;31mNameError\u001b[0m                                 Traceback (most recent call last)",
      "Cell \u001b[1;32mIn[66], line 1\u001b[0m\n\u001b[1;32m----> 1\u001b[0m cm \u001b[38;5;241m=\u001b[39m LinearSegmentedColormap\u001b[38;5;241m.\u001b[39mfrom_list(\u001b[38;5;124m'\u001b[39m\u001b[38;5;124mmy_jet\u001b[39m\u001b[38;5;124m'\u001b[39m, jet, N\u001b[38;5;241m=\u001b[39m\u001b[38;5;28mlen\u001b[39m(levs))\n",
      "\u001b[1;31mNameError\u001b[0m: name 'LinearSegmentedColormap' is not defined"
     ]
    }
   ],
   "source": [
    "cm = LinearSegmentedColormap.from_list('my_jet', jet, N=len(levs))\n",
    "\n",
    "#https://www.youtube.com/watch?v=qk0n-YaKIkY"
   ]
  },
  {
   "cell_type": "markdown",
   "metadata": {},
   "source": [
    "#### - plot the SST map"
   ]
  },
  {
   "cell_type": "code",
   "execution_count": 67,
   "metadata": {},
   "outputs": [
    {
     "data": {
      "text/plain": [
       "array([-82.5       , -81.66666667, -80.83333333, -80.        ])"
      ]
     },
     "execution_count": 67,
     "metadata": {},
     "output_type": "execute_result"
    }
   ],
   "source": [
    "np.linspace(-82.5,-80,num=4)\n"
   ]
  },
  {
   "cell_type": "code",
   "execution_count": 72,
   "metadata": {
    "scrolled": true
   },
   "outputs": [
    {
     "data": {
      "image/png": "[encoded data removed]",
      "text/plain": [
       "<Figure size 1000x500 with 2 Axes>"
      ]
     },
     "metadata": {},
     "output_type": "display_data"
    }
   ],
   "source": [
    "plt.subplots(figsize=(10, 5))\n",
    "\n",
    "#plot first sst image: nan_sst[0,:,:]\n",
    "plt.contourf(ds.sst.longitude, ds.sst.latitude, ds.sst[0,:,:], levs,cmap='jet')\n",
    "\n",
    "#plot the color scale\n",
    "plt.colorbar()\n",
    "\n",
    "#example of how to add points to the map\n",
    "plt.scatter(np.linspace(-82,-80.5,num=4),np.repeat(42,4),c='black')\n",
    "\n",
    "#example of how to add a contour line\n",
    "step = np.arange(9,26, 1)\n",
    "\n",
    "plt.contour(ds.longitude, ds.latitude, ds.sst[0,:,:],levels=step,linewidths=1)\n",
    "\n",
    "#plot title\n",
    "#plt.title(\"Lake Erie Water Surface Temperature - \" + dates[0].strftime('%b %d, %Y'))\n",
    "plt.show()\n"
   ]
  },
  {
   "cell_type": "markdown",
   "metadata": {},
   "source": [
    "### Plotting a time series"
   ]
  },
  {
   "cell_type": "markdown",
   "metadata": {},
   "source": [
    "Let's pick the following box : 41.75-42.0N, 83.0-83.5W. We are going to generate a time series of mean SST within that box.\n",
    "\n",
    "#### - first, let's subset our data:"
   ]
  },
  {
   "cell_type": "code",
   "execution_count": null,
   "metadata": {},
   "outputs": [],
   "source": [
    "lat_bnds, lon_bnds = [41.75, 42.0], [-83.5, -83.0]\n",
    "a_sst=nan_sst.sel(latitude=slice(*lat_bnds), longitude=slice(*lon_bnds))\n",
    "print(a_sst)"
   ]
  },
  {
   "cell_type": "markdown",
   "metadata": {},
   "source": [
    "#### - let's plot the subset:"
   ]
  },
  {
   "cell_type": "code",
   "execution_count": null,
   "metadata": {},
   "outputs": [],
   "source": [
    "#plot first image of the a_sst array\n",
    "plt.contourf(a_sst.longitude, a_sst.latitude, a_sst[0,:,:], levs,cmap=cm)\n",
    "plt.colorbar()\n",
    "plt.title(\"Subset of Lake Erie Water Surface Temperature \" + dates[0].strftime('%b %d, %Y'))\n",
    "plt.show()"
   ]
  },
  {
   "cell_type": "markdown",
   "metadata": {},
   "source": [
    "#### - let's compute the daily mean over the bounding region:"
   ]
  },
  {
   "cell_type": "code",
   "execution_count": null,
   "metadata": {
    "scrolled": true
   },
   "outputs": [],
   "source": [
    "res=np.nanmean(a_sst,axis=(1,2))\n",
    "res\n"
   ]
  },
  {
   "cell_type": "markdown",
   "metadata": {},
   "source": [
    "#### - let's plot the time-series:"
   ]
  },
  {
   "cell_type": "code",
   "execution_count": null,
   "metadata": {
    "scrolled": true
   },
   "outputs": [],
   "source": [
    "plt.figure(figsize=(8,4))\n",
    "\n",
    "plt.scatter(dates,res)\n",
    "\n",
    "degree_sign = u\"\\N{DEGREE SIGN}\"\n",
    "plt.ylabel('SST (' + degree_sign + 'C)')\n",
    "\n",
    "plt.xlim(dates[0], dates[-1])\n",
    "\n",
    "plt.xticks(dates,rotation=70, fontsize=10 )\n",
    "plt.show()"
   ]
  },
  {
   "cell_type": "markdown",
   "metadata": {},
   "source": [
    "### Creating a map of average SST over a month"
   ]
  },
  {
   "cell_type": "markdown",
   "metadata": {},
   "source": [
    "#### - let's compute the monthly mean for the region:"
   ]
  },
  {
   "cell_type": "code",
   "execution_count": null,
   "metadata": {},
   "outputs": [],
   "source": [
    "import warnings\n",
    "\n",
    "warnings.filterwarnings('ignore')\n",
    "mean_sst=np.nanmean(nan_sst,axis=0)"
   ]
  },
  {
   "cell_type": "code",
   "execution_count": null,
   "metadata": {},
   "outputs": [],
   "source": [
    "mean_sst.shape"
   ]
  },
  {
   "cell_type": "markdown",
   "metadata": {},
   "source": [
    "#### - let's plot the map of the average SST in the region for 2021 June:"
   ]
  },
  {
   "cell_type": "code",
   "execution_count": null,
   "metadata": {},
   "outputs": [],
   "source": [
    "plt.subplots(figsize=(10, 5))\n",
    "\n",
    "plt.contourf(ds.longitude, ds.latitude, mean_sst, levs,cmap=cm)\n",
    "\n",
    "cbar = plt.colorbar()\n",
    "cbar.set_label('SST')\n",
    "\n",
    "plt.title(\"Mean SST \" + dates[0].strftime('%Y-%m-%d')+' - '+dates[-1].strftime('%Y-%m-%d'))\n",
    "plt.show()"
   ]
  },
  {
   "cell_type": "code",
   "execution_count": null,
   "metadata": {},
   "outputs": [],
   "source": [
    "!jupyter nbconvert --to html GL_python_tutorial1.ipynb"
   ]
  },
  {
   "cell_type": "code",
   "execution_count": 50,
   "metadata": {},
   "outputs": [
    {
     "name": "stdout",
     "output_type": "stream",
     "text": [
      "[[[29.11241877 18.20125767 22.82990387 32.92714559 29.94046392]\n",
      "  [ 7.18177696 22.60070734 13.78914233 14.17424919 18.28478802]\n",
      "  [16.15234857 26.63418806 21.0883018  15.97340013 18.55090586]\n",
      "  [17.66939462 26.95263259 13.35873389 17.50454161  8.16723409]]\n",
      "\n",
      " [[-5.42391853 20.22894876 21.91548959  9.06267984 33.15803699]\n",
      "  [ 3.3650746  15.36606814 13.5025292  27.26223371 26.75487016]\n",
      "  [16.23957941 18.02530016  7.89771402 -0.84637175 12.21670281]\n",
      "  [16.25079175 24.84232545 24.61903879 11.90138546 12.581578  ]]\n",
      "\n",
      " [[ 6.61157628  3.6398565   1.34983847 30.60620316 10.92278255]\n",
      "  [11.49540559  4.97763712 21.21992285  2.08881722 13.29807776]\n",
      "  [ 7.83626751 18.09521998 10.9135589   5.55494253 14.77454217]\n",
      "  [18.42665496 15.53213778 17.41977518  9.92542325 12.09807067]]]\n",
      "[-99.83, -99.32, -99.79, -99.23, -99.0]\n",
      "[42.25, 42.21, 42.63, 42.59]\n",
      "DatetimeIndex(['2014-09-06', '2014-09-07', '2014-09-08'], dtype='datetime64[ns]', freq='D')\n",
      "<xarray.Dataset>\n",
      "Dimensions:    (time: 3, latitude: 4, longitude: 5)\n",
      "Coordinates:\n",
      "  * time       (time) datetime64[ns] 2014-09-06 2014-09-07 2014-09-08\n",
      "  * latitude   (latitude) float64 42.25 42.21 42.63 42.59\n",
      "  * longitude  (longitude) float64 -99.83 -99.32 -99.79 -99.23 -99.0\n",
      "Data variables:\n",
      "    sst        (time, latitude, longitude) float64 29.11 18.2 ... 9.925 12.1\n",
      "Attributes:\n",
      "    description:  Weather surface temperature\n"
     ]
    }
   ],
   "source": [
    "np.random.seed(0)\n",
    "sst = 15 + 8 * np.random.randn(3, 4, 5)\n",
    "print(sst)\n",
    "lon = [-99.83, -99.32, -99.79, -99.23, -99.0]\n",
    "lat = [42.25, 42.21, 42.63, 42.59]\n",
    "print(lon)\n",
    "print(lat)\n",
    "time = pd.date_range(\"2014-09-06\", periods=3)\n",
    "print(time)\n",
    "\n",
    "ds = xr.Dataset(\n",
    "    data_vars=dict(\n",
    "        sst=([\"time\", \"latitude\", \"longitude\"], sst),\n",
    "         \n",
    "    ),\n",
    "    coords=dict(\n",
    "         time=time,        \n",
    "         latitude=([\"latitude\"], lat),\n",
    "         longitude=([\"longitude\"], lon),    \n",
    "    ),\n",
    "    attrs=dict(description=\"Weather surface temperature\"),\n",
    ")\n",
    "\n",
    "print(ds)"
   ]
  },
  {
   "cell_type": "code",
   "execution_count": null,
   "metadata": {},
   "outputs": [],
   "source": []
  }
 ],
 "metadata": {
  "kernelspec": {
   "display_name": "Python 3 (ipykernel)",
   "language": "python",
   "name": "python3"
  },
  "language_info": {
   "codemirror_mode": {
    "name": "ipython",
    "version": 3
   },
   "file_extension": ".py",
   "mimetype": "text/x-python",
   "name": "python",
   "nbconvert_exporter": "python",
   "pygments_lexer": "ipython3",
   "version": "3.11.9"
  }
 },
 "nbformat": 4,
 "nbformat_minor": 2
}
